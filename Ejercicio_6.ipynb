{
  "nbformat": 4,
  "nbformat_minor": 0,
  "metadata": {
    "colab": {
      "provenance": [],
      "include_colab_link": true
    },
    "kernelspec": {
      "name": "python3",
      "display_name": "Python 3"
    },
    "language_info": {
      "name": "python"
    }
  },
  "cells": [
    {
      "cell_type": "markdown",
      "metadata": {
        "id": "view-in-github",
        "colab_type": "text"
      },
      "source": [
        "<a href=\"https://colab.research.google.com/github/FerBarrey/An-lisis-cuantitativo-avanzados/blob/main/Ejercicio_6.ipynb\" target=\"_parent\"><img src=\"https://colab.research.google.com/assets/colab-badge.svg\" alt=\"Open In Colab\"/></a>"
      ]
    },
    {
      "cell_type": "markdown",
      "source": [
        "# Ejercicio 6\n",
        "\n",
        "## Cargar la base\n",
        "\n",
        "La siguiente base describe datos sobre los salarios, la formación y la experiencia de empleados que realizan entrevistas de trabajo."
      ],
      "metadata": {
        "id": "u3k0JTtjmKkI"
      }
    },
    {
      "cell_type": "code",
      "source": [
        "import pandas as pd\n",
        "import numpy as np"
      ],
      "metadata": {
        "id": "dGEQ3x7_mx9m"
      },
      "execution_count": 13,
      "outputs": []
    },
    {
      "cell_type": "code",
      "execution_count": 14,
      "metadata": {
        "id": "olHaot2HQL37",
        "colab": {
          "base_uri": "https://localhost:8080/"
        },
        "outputId": "1dbcc1d7-d024-415d-eda2-d0543db99132"
      },
      "outputs": [
        {
          "output_type": "stream",
          "name": "stdout",
          "text": [
            "mkdir: cannot create directory ‘/root/.kaggle’: File exists\n",
            "Dataset URL: https://www.kaggle.com/datasets/mohithsairamreddy/salary-data\n",
            "License(s): Community Data License Agreement - Sharing - Version 1.0\n",
            "salary-data.zip: Skipping, found more recently modified local copy (use --force to force download)\n"
          ]
        }
      ],
      "source": [
        "from google.colab import userdata\n",
        "import json\n",
        "\n",
        "!mkdir ~/.kaggle\n",
        "!touch ~/.kaggle/kaggle.json\n",
        "\n",
        "api_token = {\n",
        "    'username': userdata.get('KAGGLE_USER'),\n",
        "    'key': userdata.get('KAGGLE_KEY')}\n",
        "with open('/root/.kaggle/kaggle.json', 'w') as file:\n",
        "    json.dump(api_token, file)\n",
        "\n",
        "!chmod 600 ~/.kaggle/kaggle.json\n",
        "\n",
        "!kaggle datasets download -d mohithsairamreddy/salary-data"
      ]
    },
    {
      "cell_type": "code",
      "source": [
        "import zipfile\n",
        "import os\n",
        "\n",
        "os.listdir()\n",
        "\n",
        "for file in os.listdir():\n",
        "    if file.endswith('.zip'):\n",
        "      zip_ref = zipfile.ZipFile(file, 'r')\n",
        "      zip_ref.extractall()\n",
        "      zip_ref.close()"
      ],
      "metadata": {
        "id": "rEehM9QyQuqy"
      },
      "execution_count": 15,
      "outputs": []
    },
    {
      "cell_type": "code",
      "source": [
        "## Cargamos la base\n",
        "df = pd.read_csv('/content/Salary_Data.csv')\n",
        "df.head()"
      ],
      "metadata": {
        "colab": {
          "base_uri": "https://localhost:8080/",
          "height": 206
        },
        "id": "kGLFhdFVR9iE",
        "outputId": "c083caf3-e65d-494d-8700-ace26bce1f7a"
      },
      "execution_count": 16,
      "outputs": [
        {
          "output_type": "execute_result",
          "data": {
            "text/plain": [
              "    Age  Gender Education Level          Job Title  Years of Experience  \\\n",
              "0  32.0    Male      Bachelor's  Software Engineer                  5.0   \n",
              "1  28.0  Female        Master's       Data Analyst                  3.0   \n",
              "2  45.0    Male             PhD     Senior Manager                 15.0   \n",
              "3  36.0  Female      Bachelor's    Sales Associate                  7.0   \n",
              "4  52.0    Male        Master's           Director                 20.0   \n",
              "\n",
              "     Salary  \n",
              "0   90000.0  \n",
              "1   65000.0  \n",
              "2  150000.0  \n",
              "3   60000.0  \n",
              "4  200000.0  "
            ],
            "text/html": [
              "\n",
              "  <div id=\"df-858751f3-42f3-4cb3-92c3-6da71ca50ef5\" class=\"colab-df-container\">\n",
              "    <div>\n",
              "<style scoped>\n",
              "    .dataframe tbody tr th:only-of-type {\n",
              "        vertical-align: middle;\n",
              "    }\n",
              "\n",
              "    .dataframe tbody tr th {\n",
              "        vertical-align: top;\n",
              "    }\n",
              "\n",
              "    .dataframe thead th {\n",
              "        text-align: right;\n",
              "    }\n",
              "</style>\n",
              "<table border=\"1\" class=\"dataframe\">\n",
              "  <thead>\n",
              "    <tr style=\"text-align: right;\">\n",
              "      <th></th>\n",
              "      <th>Age</th>\n",
              "      <th>Gender</th>\n",
              "      <th>Education Level</th>\n",
              "      <th>Job Title</th>\n",
              "      <th>Years of Experience</th>\n",
              "      <th>Salary</th>\n",
              "    </tr>\n",
              "  </thead>\n",
              "  <tbody>\n",
              "    <tr>\n",
              "      <th>0</th>\n",
              "      <td>32.0</td>\n",
              "      <td>Male</td>\n",
              "      <td>Bachelor's</td>\n",
              "      <td>Software Engineer</td>\n",
              "      <td>5.0</td>\n",
              "      <td>90000.0</td>\n",
              "    </tr>\n",
              "    <tr>\n",
              "      <th>1</th>\n",
              "      <td>28.0</td>\n",
              "      <td>Female</td>\n",
              "      <td>Master's</td>\n",
              "      <td>Data Analyst</td>\n",
              "      <td>3.0</td>\n",
              "      <td>65000.0</td>\n",
              "    </tr>\n",
              "    <tr>\n",
              "      <th>2</th>\n",
              "      <td>45.0</td>\n",
              "      <td>Male</td>\n",
              "      <td>PhD</td>\n",
              "      <td>Senior Manager</td>\n",
              "      <td>15.0</td>\n",
              "      <td>150000.0</td>\n",
              "    </tr>\n",
              "    <tr>\n",
              "      <th>3</th>\n",
              "      <td>36.0</td>\n",
              "      <td>Female</td>\n",
              "      <td>Bachelor's</td>\n",
              "      <td>Sales Associate</td>\n",
              "      <td>7.0</td>\n",
              "      <td>60000.0</td>\n",
              "    </tr>\n",
              "    <tr>\n",
              "      <th>4</th>\n",
              "      <td>52.0</td>\n",
              "      <td>Male</td>\n",
              "      <td>Master's</td>\n",
              "      <td>Director</td>\n",
              "      <td>20.0</td>\n",
              "      <td>200000.0</td>\n",
              "    </tr>\n",
              "  </tbody>\n",
              "</table>\n",
              "</div>\n",
              "    <div class=\"colab-df-buttons\">\n",
              "\n",
              "  <div class=\"colab-df-container\">\n",
              "    <button class=\"colab-df-convert\" onclick=\"convertToInteractive('df-858751f3-42f3-4cb3-92c3-6da71ca50ef5')\"\n",
              "            title=\"Convert this dataframe to an interactive table.\"\n",
              "            style=\"display:none;\">\n",
              "\n",
              "  <svg xmlns=\"http://www.w3.org/2000/svg\" height=\"24px\" viewBox=\"0 -960 960 960\">\n",
              "    <path d=\"M120-120v-720h720v720H120Zm60-500h600v-160H180v160Zm220 220h160v-160H400v160Zm0 220h160v-160H400v160ZM180-400h160v-160H180v160Zm440 0h160v-160H620v160ZM180-180h160v-160H180v160Zm440 0h160v-160H620v160Z\"/>\n",
              "  </svg>\n",
              "    </button>\n",
              "\n",
              "  <style>\n",
              "    .colab-df-container {\n",
              "      display:flex;\n",
              "      gap: 12px;\n",
              "    }\n",
              "\n",
              "    .colab-df-convert {\n",
              "      background-color: #E8F0FE;\n",
              "      border: none;\n",
              "      border-radius: 50%;\n",
              "      cursor: pointer;\n",
              "      display: none;\n",
              "      fill: #1967D2;\n",
              "      height: 32px;\n",
              "      padding: 0 0 0 0;\n",
              "      width: 32px;\n",
              "    }\n",
              "\n",
              "    .colab-df-convert:hover {\n",
              "      background-color: #E2EBFA;\n",
              "      box-shadow: 0px 1px 2px rgba(60, 64, 67, 0.3), 0px 1px 3px 1px rgba(60, 64, 67, 0.15);\n",
              "      fill: #174EA6;\n",
              "    }\n",
              "\n",
              "    .colab-df-buttons div {\n",
              "      margin-bottom: 4px;\n",
              "    }\n",
              "\n",
              "    [theme=dark] .colab-df-convert {\n",
              "      background-color: #3B4455;\n",
              "      fill: #D2E3FC;\n",
              "    }\n",
              "\n",
              "    [theme=dark] .colab-df-convert:hover {\n",
              "      background-color: #434B5C;\n",
              "      box-shadow: 0px 1px 3px 1px rgba(0, 0, 0, 0.15);\n",
              "      filter: drop-shadow(0px 1px 2px rgba(0, 0, 0, 0.3));\n",
              "      fill: #FFFFFF;\n",
              "    }\n",
              "  </style>\n",
              "\n",
              "    <script>\n",
              "      const buttonEl =\n",
              "        document.querySelector('#df-858751f3-42f3-4cb3-92c3-6da71ca50ef5 button.colab-df-convert');\n",
              "      buttonEl.style.display =\n",
              "        google.colab.kernel.accessAllowed ? 'block' : 'none';\n",
              "\n",
              "      async function convertToInteractive(key) {\n",
              "        const element = document.querySelector('#df-858751f3-42f3-4cb3-92c3-6da71ca50ef5');\n",
              "        const dataTable =\n",
              "          await google.colab.kernel.invokeFunction('convertToInteractive',\n",
              "                                                    [key], {});\n",
              "        if (!dataTable) return;\n",
              "\n",
              "        const docLinkHtml = 'Like what you see? Visit the ' +\n",
              "          '<a target=\"_blank\" href=https://colab.research.google.com/notebooks/data_table.ipynb>data table notebook</a>'\n",
              "          + ' to learn more about interactive tables.';\n",
              "        element.innerHTML = '';\n",
              "        dataTable['output_type'] = 'display_data';\n",
              "        await google.colab.output.renderOutput(dataTable, element);\n",
              "        const docLink = document.createElement('div');\n",
              "        docLink.innerHTML = docLinkHtml;\n",
              "        element.appendChild(docLink);\n",
              "      }\n",
              "    </script>\n",
              "  </div>\n",
              "\n",
              "\n",
              "<div id=\"df-bfc16efa-98fe-4033-9d8a-58c44520a411\">\n",
              "  <button class=\"colab-df-quickchart\" onclick=\"quickchart('df-bfc16efa-98fe-4033-9d8a-58c44520a411')\"\n",
              "            title=\"Suggest charts\"\n",
              "            style=\"display:none;\">\n",
              "\n",
              "<svg xmlns=\"http://www.w3.org/2000/svg\" height=\"24px\"viewBox=\"0 0 24 24\"\n",
              "     width=\"24px\">\n",
              "    <g>\n",
              "        <path d=\"M19 3H5c-1.1 0-2 .9-2 2v14c0 1.1.9 2 2 2h14c1.1 0 2-.9 2-2V5c0-1.1-.9-2-2-2zM9 17H7v-7h2v7zm4 0h-2V7h2v10zm4 0h-2v-4h2v4z\"/>\n",
              "    </g>\n",
              "</svg>\n",
              "  </button>\n",
              "\n",
              "<style>\n",
              "  .colab-df-quickchart {\n",
              "      --bg-color: #E8F0FE;\n",
              "      --fill-color: #1967D2;\n",
              "      --hover-bg-color: #E2EBFA;\n",
              "      --hover-fill-color: #174EA6;\n",
              "      --disabled-fill-color: #AAA;\n",
              "      --disabled-bg-color: #DDD;\n",
              "  }\n",
              "\n",
              "  [theme=dark] .colab-df-quickchart {\n",
              "      --bg-color: #3B4455;\n",
              "      --fill-color: #D2E3FC;\n",
              "      --hover-bg-color: #434B5C;\n",
              "      --hover-fill-color: #FFFFFF;\n",
              "      --disabled-bg-color: #3B4455;\n",
              "      --disabled-fill-color: #666;\n",
              "  }\n",
              "\n",
              "  .colab-df-quickchart {\n",
              "    background-color: var(--bg-color);\n",
              "    border: none;\n",
              "    border-radius: 50%;\n",
              "    cursor: pointer;\n",
              "    display: none;\n",
              "    fill: var(--fill-color);\n",
              "    height: 32px;\n",
              "    padding: 0;\n",
              "    width: 32px;\n",
              "  }\n",
              "\n",
              "  .colab-df-quickchart:hover {\n",
              "    background-color: var(--hover-bg-color);\n",
              "    box-shadow: 0 1px 2px rgba(60, 64, 67, 0.3), 0 1px 3px 1px rgba(60, 64, 67, 0.15);\n",
              "    fill: var(--button-hover-fill-color);\n",
              "  }\n",
              "\n",
              "  .colab-df-quickchart-complete:disabled,\n",
              "  .colab-df-quickchart-complete:disabled:hover {\n",
              "    background-color: var(--disabled-bg-color);\n",
              "    fill: var(--disabled-fill-color);\n",
              "    box-shadow: none;\n",
              "  }\n",
              "\n",
              "  .colab-df-spinner {\n",
              "    border: 2px solid var(--fill-color);\n",
              "    border-color: transparent;\n",
              "    border-bottom-color: var(--fill-color);\n",
              "    animation:\n",
              "      spin 1s steps(1) infinite;\n",
              "  }\n",
              "\n",
              "  @keyframes spin {\n",
              "    0% {\n",
              "      border-color: transparent;\n",
              "      border-bottom-color: var(--fill-color);\n",
              "      border-left-color: var(--fill-color);\n",
              "    }\n",
              "    20% {\n",
              "      border-color: transparent;\n",
              "      border-left-color: var(--fill-color);\n",
              "      border-top-color: var(--fill-color);\n",
              "    }\n",
              "    30% {\n",
              "      border-color: transparent;\n",
              "      border-left-color: var(--fill-color);\n",
              "      border-top-color: var(--fill-color);\n",
              "      border-right-color: var(--fill-color);\n",
              "    }\n",
              "    40% {\n",
              "      border-color: transparent;\n",
              "      border-right-color: var(--fill-color);\n",
              "      border-top-color: var(--fill-color);\n",
              "    }\n",
              "    60% {\n",
              "      border-color: transparent;\n",
              "      border-right-color: var(--fill-color);\n",
              "    }\n",
              "    80% {\n",
              "      border-color: transparent;\n",
              "      border-right-color: var(--fill-color);\n",
              "      border-bottom-color: var(--fill-color);\n",
              "    }\n",
              "    90% {\n",
              "      border-color: transparent;\n",
              "      border-bottom-color: var(--fill-color);\n",
              "    }\n",
              "  }\n",
              "</style>\n",
              "\n",
              "  <script>\n",
              "    async function quickchart(key) {\n",
              "      const quickchartButtonEl =\n",
              "        document.querySelector('#' + key + ' button');\n",
              "      quickchartButtonEl.disabled = true;  // To prevent multiple clicks.\n",
              "      quickchartButtonEl.classList.add('colab-df-spinner');\n",
              "      try {\n",
              "        const charts = await google.colab.kernel.invokeFunction(\n",
              "            'suggestCharts', [key], {});\n",
              "      } catch (error) {\n",
              "        console.error('Error during call to suggestCharts:', error);\n",
              "      }\n",
              "      quickchartButtonEl.classList.remove('colab-df-spinner');\n",
              "      quickchartButtonEl.classList.add('colab-df-quickchart-complete');\n",
              "    }\n",
              "    (() => {\n",
              "      let quickchartButtonEl =\n",
              "        document.querySelector('#df-bfc16efa-98fe-4033-9d8a-58c44520a411 button');\n",
              "      quickchartButtonEl.style.display =\n",
              "        google.colab.kernel.accessAllowed ? 'block' : 'none';\n",
              "    })();\n",
              "  </script>\n",
              "</div>\n",
              "\n",
              "    </div>\n",
              "  </div>\n"
            ],
            "application/vnd.google.colaboratory.intrinsic+json": {
              "type": "dataframe",
              "variable_name": "df",
              "summary": "{\n  \"name\": \"df\",\n  \"rows\": 6704,\n  \"fields\": [\n    {\n      \"column\": \"Age\",\n      \"properties\": {\n        \"dtype\": \"number\",\n        \"std\": 7.614632626251303,\n        \"min\": 21.0,\n        \"max\": 62.0,\n        \"num_unique_values\": 41,\n        \"samples\": [\n          24.0,\n          27.0,\n          26.0\n        ],\n        \"semantic_type\": \"\",\n        \"description\": \"\"\n      }\n    },\n    {\n      \"column\": \"Gender\",\n      \"properties\": {\n        \"dtype\": \"category\",\n        \"num_unique_values\": 3,\n        \"samples\": [\n          \"Male\",\n          \"Female\",\n          \"Other\"\n        ],\n        \"semantic_type\": \"\",\n        \"description\": \"\"\n      }\n    },\n    {\n      \"column\": \"Education Level\",\n      \"properties\": {\n        \"dtype\": \"category\",\n        \"num_unique_values\": 7,\n        \"samples\": [\n          \"Bachelor's\",\n          \"Master's\",\n          \"High School\"\n        ],\n        \"semantic_type\": \"\",\n        \"description\": \"\"\n      }\n    },\n    {\n      \"column\": \"Job Title\",\n      \"properties\": {\n        \"dtype\": \"category\",\n        \"num_unique_values\": 193,\n        \"samples\": [\n          \"Account Manager\",\n          \"Junior HR Coordinator\",\n          \"Senior Project Manager\"\n        ],\n        \"semantic_type\": \"\",\n        \"description\": \"\"\n      }\n    },\n    {\n      \"column\": \"Years of Experience\",\n      \"properties\": {\n        \"dtype\": \"number\",\n        \"std\": 6.059003056634102,\n        \"min\": 0.0,\n        \"max\": 34.0,\n        \"num_unique_values\": 37,\n        \"samples\": [\n          9.0,\n          16.0,\n          20.0\n        ],\n        \"semantic_type\": \"\",\n        \"description\": \"\"\n      }\n    },\n    {\n      \"column\": \"Salary\",\n      \"properties\": {\n        \"dtype\": \"number\",\n        \"std\": 52786.18391068297,\n        \"min\": 350.0,\n        \"max\": 250000.0,\n        \"num_unique_values\": 444,\n        \"samples\": [\n          101733.0,\n          62807.0,\n          152039.0\n        ],\n        \"semantic_type\": \"\",\n        \"description\": \"\"\n      }\n    }\n  ]\n}"
            }
          },
          "metadata": {},
          "execution_count": 16
        }
      ]
    },
    {
      "cell_type": "markdown",
      "source": [
        "## Procesamiento de la base\n",
        "\n",
        "Vemos que la variable `Education Level` tiene varios valores similares escritos de manera distinta."
      ],
      "metadata": {
        "id": "BBIUU-NUnMjW"
      }
    },
    {
      "cell_type": "code",
      "source": [
        "df[\"Education Level\"].value_counts()"
      ],
      "metadata": {
        "colab": {
          "base_uri": "https://localhost:8080/",
          "height": 335
        },
        "id": "vO8TvDbYStTC",
        "outputId": "9964251f-66de-458e-a972-575439514d6d"
      },
      "execution_count": 17,
      "outputs": [
        {
          "output_type": "execute_result",
          "data": {
            "text/plain": [
              "Education Level\n",
              "Bachelor's Degree    2267\n",
              "Master's Degree      1573\n",
              "PhD                  1368\n",
              "Bachelor's            756\n",
              "High School           448\n",
              "Master's              288\n",
              "phD                     1\n",
              "Name: count, dtype: int64"
            ],
            "text/html": [
              "<div>\n",
              "<style scoped>\n",
              "    .dataframe tbody tr th:only-of-type {\n",
              "        vertical-align: middle;\n",
              "    }\n",
              "\n",
              "    .dataframe tbody tr th {\n",
              "        vertical-align: top;\n",
              "    }\n",
              "\n",
              "    .dataframe thead th {\n",
              "        text-align: right;\n",
              "    }\n",
              "</style>\n",
              "<table border=\"1\" class=\"dataframe\">\n",
              "  <thead>\n",
              "    <tr style=\"text-align: right;\">\n",
              "      <th></th>\n",
              "      <th>count</th>\n",
              "    </tr>\n",
              "    <tr>\n",
              "      <th>Education Level</th>\n",
              "      <th></th>\n",
              "    </tr>\n",
              "  </thead>\n",
              "  <tbody>\n",
              "    <tr>\n",
              "      <th>Bachelor's Degree</th>\n",
              "      <td>2267</td>\n",
              "    </tr>\n",
              "    <tr>\n",
              "      <th>Master's Degree</th>\n",
              "      <td>1573</td>\n",
              "    </tr>\n",
              "    <tr>\n",
              "      <th>PhD</th>\n",
              "      <td>1368</td>\n",
              "    </tr>\n",
              "    <tr>\n",
              "      <th>Bachelor's</th>\n",
              "      <td>756</td>\n",
              "    </tr>\n",
              "    <tr>\n",
              "      <th>High School</th>\n",
              "      <td>448</td>\n",
              "    </tr>\n",
              "    <tr>\n",
              "      <th>Master's</th>\n",
              "      <td>288</td>\n",
              "    </tr>\n",
              "    <tr>\n",
              "      <th>phD</th>\n",
              "      <td>1</td>\n",
              "    </tr>\n",
              "  </tbody>\n",
              "</table>\n",
              "</div><br><label><b>dtype:</b> int64</label>"
            ]
          },
          "metadata": {},
          "execution_count": 17
        }
      ]
    },
    {
      "cell_type": "markdown",
      "source": [
        "Para unificar estos valores, la recatogrizamos creando una nueva variable denominada `Education New`:"
      ],
      "metadata": {
        "id": "RKvkvWt8ndGE"
      }
    },
    {
      "cell_type": "code",
      "source": [
        "df[\"Education New\"]=df[\"Education Level\"].copy()"
      ],
      "metadata": {
        "id": "skfsZ3tuT3p_"
      },
      "execution_count": 18,
      "outputs": []
    },
    {
      "cell_type": "code",
      "source": [
        "df.loc[df[\"Education Level\"].str.contains(\"Bach\", na=False), \"Education New\"] = \"Bachelor's\"\n",
        "df.loc[df[\"Education Level\"].str.contains(\"Mast\", na=False), \"Education New\"] = \"Master's\"\n",
        "df.loc[df[\"Education Level\"].str.contains(\"hD\", na=False), \"Education New\"] = \"PhD\""
      ],
      "metadata": {
        "id": "jLUsKTFYZK_D"
      },
      "execution_count": 19,
      "outputs": []
    },
    {
      "cell_type": "markdown",
      "source": [
        "Verificamos que con estos cambios, las categorías quedaron unificadas"
      ],
      "metadata": {
        "id": "rwziEO4HnpcX"
      }
    },
    {
      "cell_type": "code",
      "source": [
        "df[\"Education New\"].value_counts()"
      ],
      "metadata": {
        "colab": {
          "base_uri": "https://localhost:8080/",
          "height": 241
        },
        "id": "C3jD9Z_2noxM",
        "outputId": "5ff46ca1-8dde-48a6-ba29-eabb43a3b878"
      },
      "execution_count": 20,
      "outputs": [
        {
          "output_type": "execute_result",
          "data": {
            "text/plain": [
              "Education New\n",
              "Bachelor's     3023\n",
              "Master's       1861\n",
              "PhD            1369\n",
              "High School     448\n",
              "Name: count, dtype: int64"
            ],
            "text/html": [
              "<div>\n",
              "<style scoped>\n",
              "    .dataframe tbody tr th:only-of-type {\n",
              "        vertical-align: middle;\n",
              "    }\n",
              "\n",
              "    .dataframe tbody tr th {\n",
              "        vertical-align: top;\n",
              "    }\n",
              "\n",
              "    .dataframe thead th {\n",
              "        text-align: right;\n",
              "    }\n",
              "</style>\n",
              "<table border=\"1\" class=\"dataframe\">\n",
              "  <thead>\n",
              "    <tr style=\"text-align: right;\">\n",
              "      <th></th>\n",
              "      <th>count</th>\n",
              "    </tr>\n",
              "    <tr>\n",
              "      <th>Education New</th>\n",
              "      <th></th>\n",
              "    </tr>\n",
              "  </thead>\n",
              "  <tbody>\n",
              "    <tr>\n",
              "      <th>Bachelor's</th>\n",
              "      <td>3023</td>\n",
              "    </tr>\n",
              "    <tr>\n",
              "      <th>Master's</th>\n",
              "      <td>1861</td>\n",
              "    </tr>\n",
              "    <tr>\n",
              "      <th>PhD</th>\n",
              "      <td>1369</td>\n",
              "    </tr>\n",
              "    <tr>\n",
              "      <th>High School</th>\n",
              "      <td>448</td>\n",
              "    </tr>\n",
              "  </tbody>\n",
              "</table>\n",
              "</div><br><label><b>dtype:</b> int64</label>"
            ]
          },
          "metadata": {},
          "execution_count": 20
        }
      ]
    },
    {
      "cell_type": "code",
      "source": [
        "df.info()"
      ],
      "metadata": {
        "colab": {
          "base_uri": "https://localhost:8080/"
        },
        "id": "PHZ9a9DNpyc5",
        "outputId": "588a89a9-c421-4da0-9acc-1dfe418c7b50"
      },
      "execution_count": 21,
      "outputs": [
        {
          "output_type": "stream",
          "name": "stdout",
          "text": [
            "<class 'pandas.core.frame.DataFrame'>\n",
            "RangeIndex: 6704 entries, 0 to 6703\n",
            "Data columns (total 7 columns):\n",
            " #   Column               Non-Null Count  Dtype  \n",
            "---  ------               --------------  -----  \n",
            " 0   Age                  6702 non-null   float64\n",
            " 1   Gender               6702 non-null   object \n",
            " 2   Education Level      6701 non-null   object \n",
            " 3   Job Title            6702 non-null   object \n",
            " 4   Years of Experience  6701 non-null   float64\n",
            " 5   Salary               6699 non-null   float64\n",
            " 6   Education New        6701 non-null   object \n",
            "dtypes: float64(3), object(4)\n",
            "memory usage: 366.8+ KB\n"
          ]
        }
      ]
    },
    {
      "cell_type": "code",
      "source": [
        "#utilizo otro metodo para indetificar el total de valores faltantes\n",
        "df.isna().sum()"
      ],
      "metadata": {
        "colab": {
          "base_uri": "https://localhost:8080/",
          "height": 303
        },
        "id": "_pJUiq5E3BY7",
        "outputId": "fb5b39f4-eb25-4c80-91f1-ec00cfc974be"
      },
      "execution_count": 22,
      "outputs": [
        {
          "output_type": "execute_result",
          "data": {
            "text/plain": [
              "Age                    2\n",
              "Gender                 2\n",
              "Education Level        3\n",
              "Job Title              2\n",
              "Years of Experience    3\n",
              "Salary                 5\n",
              "Education New          3\n",
              "dtype: int64"
            ],
            "text/html": [
              "<div>\n",
              "<style scoped>\n",
              "    .dataframe tbody tr th:only-of-type {\n",
              "        vertical-align: middle;\n",
              "    }\n",
              "\n",
              "    .dataframe tbody tr th {\n",
              "        vertical-align: top;\n",
              "    }\n",
              "\n",
              "    .dataframe thead th {\n",
              "        text-align: right;\n",
              "    }\n",
              "</style>\n",
              "<table border=\"1\" class=\"dataframe\">\n",
              "  <thead>\n",
              "    <tr style=\"text-align: right;\">\n",
              "      <th></th>\n",
              "      <th>0</th>\n",
              "    </tr>\n",
              "  </thead>\n",
              "  <tbody>\n",
              "    <tr>\n",
              "      <th>Age</th>\n",
              "      <td>2</td>\n",
              "    </tr>\n",
              "    <tr>\n",
              "      <th>Gender</th>\n",
              "      <td>2</td>\n",
              "    </tr>\n",
              "    <tr>\n",
              "      <th>Education Level</th>\n",
              "      <td>3</td>\n",
              "    </tr>\n",
              "    <tr>\n",
              "      <th>Job Title</th>\n",
              "      <td>2</td>\n",
              "    </tr>\n",
              "    <tr>\n",
              "      <th>Years of Experience</th>\n",
              "      <td>3</td>\n",
              "    </tr>\n",
              "    <tr>\n",
              "      <th>Salary</th>\n",
              "      <td>5</td>\n",
              "    </tr>\n",
              "    <tr>\n",
              "      <th>Education New</th>\n",
              "      <td>3</td>\n",
              "    </tr>\n",
              "  </tbody>\n",
              "</table>\n",
              "</div><br><label><b>dtype:</b> int64</label>"
            ]
          },
          "metadata": {},
          "execution_count": 22
        }
      ]
    },
    {
      "cell_type": "markdown",
      "source": [
        "Borramos además los datos faltantes de la base"
      ],
      "metadata": {
        "id": "gHPxPBZjpcH6"
      }
    },
    {
      "cell_type": "code",
      "source": [
        "df=df.dropna()"
      ],
      "metadata": {
        "id": "L0oQawI6pbmS"
      },
      "execution_count": 23,
      "outputs": []
    },
    {
      "cell_type": "markdown",
      "source": [
        "Verificamos que ahora no quedan datos faltantes"
      ],
      "metadata": {
        "id": "ZLTbKpAZp-YT"
      }
    },
    {
      "cell_type": "code",
      "source": [
        "df.info()"
      ],
      "metadata": {
        "colab": {
          "base_uri": "https://localhost:8080/"
        },
        "id": "R5BLq3pRp-Fx",
        "outputId": "6b62b7e3-2e3e-43ba-fc8e-60c3e385a113"
      },
      "execution_count": 25,
      "outputs": [
        {
          "output_type": "stream",
          "name": "stdout",
          "text": [
            "<class 'pandas.core.frame.DataFrame'>\n",
            "Index: 6698 entries, 0 to 6703\n",
            "Data columns (total 7 columns):\n",
            " #   Column               Non-Null Count  Dtype  \n",
            "---  ------               --------------  -----  \n",
            " 0   Age                  6698 non-null   float64\n",
            " 1   Gender               6698 non-null   object \n",
            " 2   Education Level      6698 non-null   object \n",
            " 3   Job Title            6698 non-null   object \n",
            " 4   Years of Experience  6698 non-null   float64\n",
            " 5   Salary               6698 non-null   float64\n",
            " 6   Education New        6698 non-null   object \n",
            "dtypes: float64(3), object(4)\n",
            "memory usage: 418.6+ KB\n"
          ]
        }
      ]
    },
    {
      "cell_type": "markdown",
      "source": [
        "# Preguntas\n",
        "\n",
        "## Pregunta 1\n",
        "\n",
        "Contar la cantidad total de individuos y la cantidad de personas de cada género en la base. Con estos datos, calcular el porcentaje de cada género en la base.\n",
        "\n",
        "*Ayuda:* el atributo `.shape` devuelve la cantidad de filas y columnas de una base. Por lo tanto, tomando `df.shape[0]` se calcula la cantidad de filas de la base `df` y por lo tanto, la cantidad de individuos.\n",
        "Para contar la cantidad de mujeres, por ejemplo, se puede recorrer todas las filas de \"Gender\" viendo en cada instancia si el valor coincide con \"Female\". Cuando se suman esos valores, se obtiene la cantidad de mujeres: `np.sum(df[\"Gender\"]==\"Female\")`\n"
      ],
      "metadata": {
        "id": "2SpWrlegoYaj"
      }
    },
    {
      "cell_type": "markdown",
      "source": [
        "**Desarrollo Pregunta 1**"
      ],
      "metadata": {
        "id": "3ALcrLn-4wrm"
      }
    },
    {
      "cell_type": "code",
      "source": [
        "df.shape[0]"
      ],
      "metadata": {
        "id": "O55aSZ9_rQ6x",
        "colab": {
          "base_uri": "https://localhost:8080/"
        },
        "outputId": "39a7443c-d9fd-4a83-a576-d5721cf83961"
      },
      "execution_count": 26,
      "outputs": [
        {
          "output_type": "execute_result",
          "data": {
            "text/plain": [
              "6698"
            ]
          },
          "metadata": {},
          "execution_count": 26
        }
      ]
    },
    {
      "cell_type": "code",
      "source": [
        "np.sum(df[\"Gender\"]==\"Female\")"
      ],
      "metadata": {
        "colab": {
          "base_uri": "https://localhost:8080/"
        },
        "id": "azhWmuOP5PcN",
        "outputId": "5e3c1bc9-9d3a-45fb-89e0-73a26b3964dd"
      },
      "execution_count": 27,
      "outputs": [
        {
          "output_type": "execute_result",
          "data": {
            "text/plain": [
              "3013"
            ]
          },
          "metadata": {},
          "execution_count": 27
        }
      ]
    },
    {
      "cell_type": "code",
      "source": [
        "#Con este codigo puedo ver los valores unicos de la columna Genero\n",
        "print(df['Gender'].unique())"
      ],
      "metadata": {
        "colab": {
          "base_uri": "https://localhost:8080/"
        },
        "id": "Of8ZO8y98RnN",
        "outputId": "386d92f1-fac2-45c2-c8e5-86f0fc5be9be"
      },
      "execution_count": 34,
      "outputs": [
        {
          "output_type": "stream",
          "name": "stdout",
          "text": [
            "['Male' 'Female' 'Other']\n"
          ]
        }
      ]
    },
    {
      "cell_type": "code",
      "source": [
        "#Con este codigo calculo el % que represente el valor Other\n",
        "total_individuos = df.shape[0]\n",
        "other_individuos = np.sum(df[\"Gender\"]==\"Other\")\n",
        "porcentaje_other = (other_individuos / total_individuos) * 100\n",
        "print(f\"El porcentaje de 'Other' es: {porcentaje_other:.2f}%\")"
      ],
      "metadata": {
        "colab": {
          "base_uri": "https://localhost:8080/"
        },
        "id": "VD777fx59a-9",
        "outputId": "9fa33bd9-0618-4848-d0f0-3b76e8718545"
      },
      "execution_count": 36,
      "outputs": [
        {
          "output_type": "stream",
          "name": "stdout",
          "text": [
            "El porcentaje de 'Other' es: 0.21%\n"
          ]
        }
      ]
    },
    {
      "cell_type": "code",
      "source": [
        "#Con este codigo calculo el % que represente el valor Female\n",
        "total_individuos = df.shape[0]\n",
        "female = np.sum(df[\"Gender\"]==\"Female\")\n",
        "porcentaje_female = (female / total_individuos) * 100\n",
        "print(f\"El porcentaje de 'Female' es: {porcentaje_female:.2f}%\")\n"
      ],
      "metadata": {
        "colab": {
          "base_uri": "https://localhost:8080/"
        },
        "id": "9Jl3kuxd-ZSz",
        "outputId": "554ae612-2514-4e9b-a4b5-397cb4f127fe"
      },
      "execution_count": 39,
      "outputs": [
        {
          "output_type": "stream",
          "name": "stdout",
          "text": [
            "El porcentaje de 'Female' es: 44.98%\n"
          ]
        }
      ]
    },
    {
      "cell_type": "markdown",
      "source": [
        "## Pregunta 2\n",
        "\n",
        "Notemos que el porcentaje identificado como `Other` en la base es pequeño y no es un número que permita obtener conclusiones estadísticas pertinentes.\n",
        "\n",
        "El porcentaje de hombres y mujeres parece equilibrado, sin embargo, calcular un intervalo de confianza para la proporción de mujeres. ¿Diría que podría considerarse del 50% el porcentaje de mujeres?\n",
        "\n",
        "*Ayuda:* Utilizar la función provista y los datos del ejercicio anterior. En caso de necesitarlo, utilice el \"help\" para entender cómo funciona la función. Recordar que el comando devuelve proporciones (entre 0 y 1), no porcentajes (entre 0 y 100)."
      ],
      "metadata": {
        "id": "GaH1XdyQrqJC"
      }
    },
    {
      "cell_type": "code",
      "source": [
        "from statsmodels.stats.proportion import proportion_confint"
      ],
      "metadata": {
        "id": "avstO5xRtmG9"
      },
      "execution_count": 30,
      "outputs": []
    },
    {
      "cell_type": "code",
      "source": [
        "help(proportion_confint)"
      ],
      "metadata": {
        "id": "xI-R9Y6KuX5W",
        "colab": {
          "base_uri": "https://localhost:8080/"
        },
        "collapsed": true,
        "outputId": "65de6221-f7a4-4797-afb9-f28d09dc2fb7"
      },
      "execution_count": 31,
      "outputs": [
        {
          "output_type": "stream",
          "name": "stdout",
          "text": [
            "Help on function proportion_confint in module statsmodels.stats.proportion:\n",
            "\n",
            "proportion_confint(count, nobs, alpha: float = 0.05, method='normal')\n",
            "    Confidence interval for a binomial proportion\n",
            "    \n",
            "    Parameters\n",
            "    ----------\n",
            "    count : {int or float, array_like}\n",
            "        number of successes, can be pandas Series or DataFrame. Arrays\n",
            "        must contain integer values if method is \"binom_test\".\n",
            "    nobs : {int or float, array_like}\n",
            "        total number of trials.  Arrays must contain integer values if method\n",
            "        is \"binom_test\".\n",
            "    alpha : float\n",
            "        Significance level, default 0.05. Must be in (0, 1)\n",
            "    method : {\"normal\", \"agresti_coull\", \"beta\", \"wilson\", \"binom_test\"}\n",
            "        default: \"normal\"\n",
            "        method to use for confidence interval. Supported methods:\n",
            "    \n",
            "         - `normal` : asymptotic normal approximation\n",
            "         - `agresti_coull` : Agresti-Coull interval\n",
            "         - `beta` : Clopper-Pearson interval based on Beta distribution\n",
            "         - `wilson` : Wilson Score interval\n",
            "         - `jeffreys` : Jeffreys Bayesian Interval\n",
            "         - `binom_test` : Numerical inversion of binom_test\n",
            "    \n",
            "    Returns\n",
            "    -------\n",
            "    ci_low, ci_upp : {float, ndarray, Series DataFrame}\n",
            "        lower and upper confidence level with coverage (approximately) 1-alpha.\n",
            "        When a pandas object is returned, then the index is taken from `count`.\n",
            "    \n",
            "    Notes\n",
            "    -----\n",
            "    Beta, the Clopper-Pearson exact interval has coverage at least 1-alpha,\n",
            "    but is in general conservative. Most of the other methods have average\n",
            "    coverage equal to 1-alpha, but will have smaller coverage in some cases.\n",
            "    \n",
            "    The \"beta\" and \"jeffreys\" interval are central, they use alpha/2 in each\n",
            "    tail, and alpha is not adjusted at the boundaries. In the extreme case\n",
            "    when `count` is zero or equal to `nobs`, then the coverage will be only\n",
            "    1 - alpha/2 in the case of \"beta\".\n",
            "    \n",
            "    The confidence intervals are clipped to be in the [0, 1] interval in the\n",
            "    case of \"normal\" and \"agresti_coull\".\n",
            "    \n",
            "    Method \"binom_test\" directly inverts the binomial test in scipy.stats.\n",
            "    which has discrete steps.\n",
            "    \n",
            "    TODO: binom_test intervals raise an exception in small samples if one\n",
            "       interval bound is close to zero or one.\n",
            "    \n",
            "    References\n",
            "    ----------\n",
            "    .. [*] https://en.wikipedia.org/wiki/Binomial_proportion_confidence_interval\n",
            "    \n",
            "    .. [*] Brown, Lawrence D.; Cai, T. Tony; DasGupta, Anirban (2001).\n",
            "       \"Interval Estimation for a Binomial Proportion\", Statistical\n",
            "       Science 16 (2): 101–133. doi:10.1214/ss/1009213286.\n",
            "\n"
          ]
        }
      ]
    },
    {
      "cell_type": "markdown",
      "source": [
        "## Pregunta 3\n",
        "\n",
        "Calcular un intervalo de confianza para el salario medio y comparar los salarios medios entre hombres y mujeres con la misma metodología, a partir de los datos de esta base.\n",
        "\n",
        "*Ayuda:* Se están evaluando medias, no porcentajes, por lo que se usa la función provista. La diferencia entre ambos intervalos reside en la cantidad de conjuntos de datos que se pasan como argumento. Para identificar, por ejemplo, los datos de salarios sólo de las mujeres, se puede utilizar el siguiente comando: `df.Salary[df[\"Gender\"]==\"Female\"]`"
      ],
      "metadata": {
        "id": "bVYugQgQt49h"
      }
    },
    {
      "cell_type": "code",
      "source": [
        "from statsmodels.stats.weightstats import zconfint"
      ],
      "metadata": {
        "id": "noU_wTvUwHDG"
      },
      "execution_count": null,
      "outputs": []
    },
    {
      "cell_type": "code",
      "source": [
        "help(zconfint)"
      ],
      "metadata": {
        "id": "G55QyX4Rxcz4"
      },
      "execution_count": null,
      "outputs": []
    },
    {
      "cell_type": "code",
      "source": [
        "# Calculamos la proporción de mujeres\n",
        "total_individuos = df.shape[0]\n",
        "proporcion_mujeres = female / total_individuos\n",
        "\n",
        "# Calculamos el intervalo de confianza\n",
        "intervalo = proportion_confint(count=female, nobs=total_individuos, alpha=0.05)\n",
        "\n",
        "# Imprimimos el intervalo de confianza\n",
        "print(f\"Intervalo de confianza para la proporción de mujeres: {intervalo}\")"
      ],
      "metadata": {
        "colab": {
          "base_uri": "https://localhost:8080/"
        },
        "id": "G9Icu31uAau2",
        "outputId": "18d84cd6-2dc3-4921-d023-309512415d9d"
      },
      "execution_count": 43,
      "outputs": [
        {
          "output_type": "stream",
          "name": "stdout",
          "text": [
            "Intervalo de confianza para la proporción de mujeres: (0.4379220162322656, 0.46174952751213566)\n"
          ]
        }
      ]
    },
    {
      "cell_type": "markdown",
      "source": [
        "## Pregunta 4\n",
        "\n",
        "Utilizar el comando `relplot` del paquete `seaborn` para ver cómo se distribuyen los salarios según el nivel educativo (utilizar la variable `Education New` para evitar un exceso de paneles), haciendo un scatterplot por cada categoría.\n",
        "\n",
        "*Ayuda:* El comando `relplot` puede hacer gráficos de línea (lineplot) o de dispersión (scatterplot) separando automáticamente por los valores de alguna variable categórica. Por ejemplo, para este caso, el objetivo es utilizar la base (`data=df`) para hacer un scatterplot (`kind=\"scatter\"`) donde se visualice la relación entre `x=\"Gender\"` e `y=\"Salary\"`, separando en columnas por `col=\"Education New\"`.\n",
        "\n",
        "**Comentario:** Notar lo que sucede con el nivel \"Other\" de la variable \"Gender\". Hay mayor representación en los que tienen el secundario completo. Esto podría estar asociado a la edad y una conclusión inicial (pero incompleta) podría ser que las personas que se identifican con género no binario crecieron con el tiempo, ya que asumimos que son personas más jóvenes al no haber llegado a un mayor nivel educativo. Sin embargo, esta conclusión inicial omite que con el tiempo las personas que no se identifican con un género específico durante años sintieron la necesidad de reprimirlo y que con las discusiones que se llevan a cabo hoy ya no sienten esa necesidad.\n"
      ],
      "metadata": {
        "id": "tB1Oz1MfxQ8b"
      }
    },
    {
      "cell_type": "code",
      "source": [
        "import matplotlib.pyplot as plt\n",
        "import seaborn as sns"
      ],
      "metadata": {
        "id": "I6neBLN2lFhu"
      },
      "execution_count": 44,
      "outputs": []
    },
    {
      "cell_type": "code",
      "source": [
        "help(sns.relplot)"
      ],
      "metadata": {
        "id": "B3L-FGJAlK8z",
        "colab": {
          "base_uri": "https://localhost:8080/"
        },
        "collapsed": true,
        "outputId": "7db7cfcd-b938-4fb6-958c-9e315f24fe0d"
      },
      "execution_count": 45,
      "outputs": [
        {
          "output_type": "stream",
          "name": "stdout",
          "text": [
            "Help on function relplot in module seaborn.relational:\n",
            "\n",
            "relplot(data=None, *, x=None, y=None, hue=None, size=None, style=None, units=None, weights=None, row=None, col=None, col_wrap=None, row_order=None, col_order=None, palette=None, hue_order=None, hue_norm=None, sizes=None, size_order=None, size_norm=None, markers=None, dashes=None, style_order=None, legend='auto', kind='scatter', height=5, aspect=1, facet_kws=None, **kwargs)\n",
            "    Figure-level interface for drawing relational plots onto a FacetGrid.\n",
            "    \n",
            "    This function provides access to several different axes-level functions\n",
            "    that show the relationship between two variables with semantic mappings\n",
            "    of subsets. The `kind` parameter selects the underlying axes-level\n",
            "    function to use:\n",
            "    \n",
            "    - :func:`scatterplot` (with `kind=\"scatter\"`; the default)\n",
            "    - :func:`lineplot` (with `kind=\"line\"`)\n",
            "    \n",
            "    Extra keyword arguments are passed to the underlying function, so you\n",
            "    should refer to the documentation for each to see kind-specific options.\n",
            "    \n",
            "    The relationship between `x` and `y` can be shown for different subsets\n",
            "    of the data using the `hue`, `size`, and `style` parameters. These\n",
            "    parameters control what visual semantics are used to identify the different\n",
            "    subsets. It is possible to show up to three dimensions independently by\n",
            "    using all three semantic types, but this style of plot can be hard to\n",
            "    interpret and is often ineffective. Using redundant semantics (i.e. both\n",
            "    `hue` and `style` for the same variable) can be helpful for making\n",
            "    graphics more accessible.\n",
            "    \n",
            "    See the :ref:`tutorial <relational_tutorial>` for more information.\n",
            "    \n",
            "    The default treatment of the `hue` (and to a lesser extent, `size`)\n",
            "    semantic, if present, depends on whether the variable is inferred to\n",
            "    represent \"numeric\" or \"categorical\" data. In particular, numeric variables\n",
            "    are represented with a sequential colormap by default, and the legend\n",
            "    entries show regular \"ticks\" with values that may or may not exist in the\n",
            "    data. This behavior can be controlled through various parameters, as\n",
            "    described and illustrated below.\n",
            "    \n",
            "    After plotting, the :class:`FacetGrid` with the plot is returned and can\n",
            "    be used directly to tweak supporting plot details or add other layers.\n",
            "    \n",
            "    Parameters\n",
            "    ----------\n",
            "    data : :class:`pandas.DataFrame`, :class:`numpy.ndarray`, mapping, or sequence\n",
            "        Input data structure. Either a long-form collection of vectors that can be\n",
            "        assigned to named variables or a wide-form dataset that will be internally\n",
            "        reshaped.\n",
            "    x, y : vectors or keys in ``data``\n",
            "        Variables that specify positions on the x and y axes.\n",
            "    hue : vector or key in `data`\n",
            "        Grouping variable that will produce elements with different colors.\n",
            "        Can be either categorical or numeric, although color mapping will\n",
            "        behave differently in latter case.\n",
            "    size : vector or key in `data`\n",
            "        Grouping variable that will produce elements with different sizes.\n",
            "        Can be either categorical or numeric, although size mapping will\n",
            "        behave differently in latter case.\n",
            "    style : vector or key in `data`\n",
            "        Grouping variable that will produce elements with different styles.\n",
            "        Can have a numeric dtype but will always be treated as categorical.\n",
            "    units : vector or key in `data`\n",
            "        Grouping variable identifying sampling units. When used, a separate\n",
            "        line will be drawn for each unit with appropriate semantics, but no\n",
            "        legend entry will be added. Useful for showing distribution of\n",
            "        experimental replicates when exact identities are not needed.\n",
            "    weights : vector or key in `data`\n",
            "        Data values or column used to compute weighted estimation.\n",
            "        Note that use of weights currently limits the choice of statistics\n",
            "        to a 'mean' estimator and 'ci' errorbar.\n",
            "    row, col : vectors or keys in ``data``\n",
            "        Variables that define subsets to plot on different facets.    \n",
            "    col_wrap : int\n",
            "        \"Wrap\" the column variable at this width, so that the column facets\n",
            "        span multiple rows. Incompatible with a ``row`` facet.    \n",
            "    row_order, col_order : lists of strings\n",
            "        Order to organize the rows and/or columns of the grid in, otherwise the\n",
            "        orders are inferred from the data objects.\n",
            "    palette : string, list, dict, or :class:`matplotlib.colors.Colormap`\n",
            "        Method for choosing the colors to use when mapping the ``hue`` semantic.\n",
            "        String values are passed to :func:`color_palette`. List or dict values\n",
            "        imply categorical mapping, while a colormap object implies numeric mapping.\n",
            "    hue_order : vector of strings\n",
            "        Specify the order of processing and plotting for categorical levels of the\n",
            "        ``hue`` semantic.\n",
            "    hue_norm : tuple or :class:`matplotlib.colors.Normalize`\n",
            "        Either a pair of values that set the normalization range in data units\n",
            "        or an object that will map from data units into a [0, 1] interval. Usage\n",
            "        implies numeric mapping.\n",
            "    sizes : list, dict, or tuple\n",
            "        An object that determines how sizes are chosen when `size` is used.\n",
            "        List or dict arguments should provide a size for each unique data value,\n",
            "        which forces a categorical interpretation. The argument may also be a\n",
            "        min, max tuple.\n",
            "    size_order : list\n",
            "        Specified order for appearance of the `size` variable levels,\n",
            "        otherwise they are determined from the data. Not relevant when the\n",
            "        `size` variable is numeric.\n",
            "    size_norm : tuple or Normalize object\n",
            "        Normalization in data units for scaling plot objects when the\n",
            "        `size` variable is numeric.\n",
            "    style_order : list\n",
            "        Specified order for appearance of the `style` variable levels\n",
            "        otherwise they are determined from the data. Not relevant when the\n",
            "        `style` variable is numeric.\n",
            "    dashes : boolean, list, or dictionary\n",
            "        Object determining how to draw the lines for different levels of the\n",
            "        `style` variable. Setting to `True` will use default dash codes, or\n",
            "        you can pass a list of dash codes or a dictionary mapping levels of the\n",
            "        `style` variable to dash codes. Setting to `False` will use solid\n",
            "        lines for all subsets. Dashes are specified as in matplotlib: a tuple\n",
            "        of `(segment, gap)` lengths, or an empty string to draw a solid line.\n",
            "    markers : boolean, list, or dictionary\n",
            "        Object determining how to draw the markers for different levels of the\n",
            "        `style` variable. Setting to `True` will use default markers, or\n",
            "        you can pass a list of markers or a dictionary mapping levels of the\n",
            "        `style` variable to markers. Setting to `False` will draw\n",
            "        marker-less lines.  Markers are specified as in matplotlib.\n",
            "    legend : \"auto\", \"brief\", \"full\", or False\n",
            "        How to draw the legend. If \"brief\", numeric `hue` and `size`\n",
            "        variables will be represented with a sample of evenly spaced values.\n",
            "        If \"full\", every group will get an entry in the legend. If \"auto\",\n",
            "        choose between brief or full representation based on number of levels.\n",
            "        If `False`, no legend data is added and no legend is drawn.\n",
            "    kind : string\n",
            "        Kind of plot to draw, corresponding to a seaborn relational plot.\n",
            "        Options are `\"scatter\"` or `\"line\"`.\n",
            "    height : scalar\n",
            "        Height (in inches) of each facet. See also: ``aspect``.    \n",
            "    aspect : scalar\n",
            "        Aspect ratio of each facet, so that ``aspect * height`` gives the width\n",
            "        of each facet in inches.    \n",
            "    facet_kws : dict\n",
            "        Dictionary of other keyword arguments to pass to :class:`FacetGrid`.\n",
            "    kwargs : key, value pairings\n",
            "        Other keyword arguments are passed through to the underlying plotting\n",
            "        function.\n",
            "    \n",
            "    Returns\n",
            "    -------\n",
            "    :class:`FacetGrid`\n",
            "        An object managing one or more subplots that correspond to conditional data\n",
            "        subsets with convenient methods for batch-setting of axes attributes.\n",
            "    \n",
            "    Examples\n",
            "    --------\n",
            "    \n",
            "    .. include:: ../docstrings/relplot.rst\n",
            "\n"
          ]
        }
      ]
    },
    {
      "cell_type": "code",
      "source": [
        "#generamos el grafico\n",
        "sns.relplot(data=df, kind=\"scatter\", x=\"Gender\", y=\"Salary\", col=\"Education New\")\n",
        "plt.show()"
      ],
      "metadata": {
        "colab": {
          "base_uri": "https://localhost:8080/",
          "height": 381
        },
        "id": "QumFpjbKCV_3",
        "outputId": "47869132-2c86-42bb-e4f0-c3dc0e2d7c61"
      },
      "execution_count": 46,
      "outputs": [
        {
          "output_type": "display_data",
          "data": {
            "text/plain": [
              "<Figure size 2000x500 with 4 Axes>"
            ],
            "image/png": "[encoded data removed]"
          },
          "metadata": {}
        }
      ]
    },
    {
      "cell_type": "markdown",
      "source": [
        "## Pregunta 5\n",
        "\n",
        "Comparar con intervalos de confianza el salario medio de hombres y mujeres a través de todos los niveles educativos, a partir de los datos de la base. Es decir, seleccionar los salarios de los hombres que tienen el secundario completo y compararlo con los salarios de las mujeres que tienen el secundario completo, y así sucesivamente con los otros niveles educativos. Serían 4 intervalos de confianza.\n",
        "\n",
        "*Ayuda:* Es similar a la pregunta 3, aunque hay que hacer una selección extra para cada intervalo. Para seleccionar, por ejemplo, las mujeres que tienen el secundario completo, tendrían que usar el comando\n",
        "`df.Salary[(df[\"Gender\"]==\"Female\") & (df[\"Education New\"]==\"High School\")]`\n",
        "\n",
        "\n",
        "\n",
        "```\n",
        "from statsmodels.stats import weightstats as smsw\n",
        "df=df[np.isnan(df[\"Salary\"])==False]\n",
        "dfM=df[df[\"Gender\"]==\"Male\"]\n",
        "dfM=dfM[np.isnan(dfM[\"Salary\"])==False]\n",
        "dfF=df[df[\"Gender\"]==\"Female\"]\n",
        "dfF=dfF[np.isnan(dfF[\"Salary\"])==False]\n",
        "print(smsw.zconfint(df[\"Salary\"],ddof=0))\n",
        "print(smsw.zconfint(dfM[\"Salary\"],dfF[\"Salary\"],ddof=0))\n",
        "print(smsw.zconfint(dfM[\"Salary\"][dfM[\"Education New\"]==\"Bachelor's\"],dfF[\"Salary\"][dfF[\"Education New\"]==\"Bachelor's\"],ddof=0))\n",
        "print(smsw.zconfint(dfM[\"Salary\"][dfM[\"Education New\"]==\"Master's\"],dfF[\"Salary\"][dfF[\"Education New\"]==\"Master's\"],ddof=0))\n",
        "print(smsw.zconfint(dfM[\"Salary\"][dfM[\"Education New\"]==\"PhD\"],dfF[\"Salary\"][dfF[\"Education New\"]==\"PhD\"],ddof=0))\n",
        "print(smsw.zconfint(dfM[\"Salary\"][dfM[\"Education New\"]==\"High School\"],dfF[\"Salary\"][dfF[\"Education New\"]==\"High School\"],ddof=0))\n",
        "```\n",
        "\n"
      ],
      "metadata": {
        "id": "aN-QYYwM2oHf"
      }
    },
    {
      "cell_type": "code",
      "source": [
        "from statsmodels.stats import weightstats as smsw\n",
        "df=df[np.isnan(df[\"Salary\"])==False]\n",
        "dfM=df[df[\"Gender\"]==\"Male\"]\n",
        "dfM=dfM[np.isnan(dfM[\"Salary\"])==False]\n",
        "dfF=df[df[\"Gender\"]==\"Female\"]\n",
        "dfF=dfF[np.isnan(dfF[\"Salary\"])==False]\n",
        "print(smsw.zconfint(df[\"Salary\"],ddof=0))\n",
        "print(smsw.zconfint(dfM[\"Salary\"],dfF[\"Salary\"],ddof=0))\n",
        "print(smsw.zconfint(dfM[\"Salary\"][dfM[\"Education New\"]==\"Bachelor's\"],dfF[\"Salary\"][dfF[\"Education New\"]==\"Bachelor's\"],ddof=0))\n",
        "print(smsw.zconfint(dfM[\"Salary\"][dfM[\"Education New\"]==\"Master's\"],dfF[\"Salary\"][dfF[\"Education New\"]==\"Master's\"],ddof=0))\n",
        "print(smsw.zconfint(dfM[\"Salary\"][dfM[\"Education New\"]==\"PhD\"],dfF[\"Salary\"][dfF[\"Education New\"]==\"PhD\"],ddof=0))\n",
        "print(smsw.zconfint(dfM[\"Salary\"][dfM[\"Education New\"]==\"High School\"],dfF[\"Salary\"][dfF[\"Education New\"]==\"High School\"],ddof=0))"
      ],
      "metadata": {
        "colab": {
          "base_uri": "https://localhost:8080/"
        },
        "id": "-9hlDoqeDhBh",
        "outputId": "43be9f50-4ca7-4ecc-a58d-6fe99036f042"
      },
      "execution_count": 47,
      "outputs": [
        {
          "output_type": "stream",
          "name": "stdout",
          "text": [
            "(114065.1192351066, 116593.38688612363)\n",
            "(10983.301945599196, 16030.095969708877)\n",
            "(6612.063783349674, 13001.034178420581)\n",
            "(13712.64162240878, 21019.458918054916)\n",
            "(4688.2854173788255, 12201.271944147997)\n",
            "(5588.686593235742, 11660.720491937089)\n"
          ]
        }
      ]
    },
    {
      "cell_type": "code",
      "source": [
        "# Seleccion de salarios de hombres y mujeres por nivel de educacion\n",
        "male_high_school = df.Salary[(df[\"Gender\"]==\"Male\") & (df[\"Education New\"]==\"High School\")]\n",
        "female_high_school = df.Salary[(df[\"Gender\"]==\"Female\") & (df[\"Education New\"]==\"High School\")]\n",
        "male_bachelors = df.Salary[(df[\"Gender\"]==\"Male\") & (df[\"Education New\"]==\"Bachelor's\")]\n",
        "female_bachelors = df.Salary[(df[\"Gender\"]==\"Female\") & (df[\"Education New\"]==\"Bachelor's\")]\n",
        "male_masters = df.Salary[(df[\"Gender\"]==\"Male\") & (df[\"Education New\"]==\"Master's\")]\n",
        "female_masters = df.Salary[(df[\"Gender\"]==\"Female\") & (df[\"Education New\"]==\"Master's\")]\n",
        "male_phd = df.Salary[(df[\"Gender\"]==\"Male\") & (df[\"Education New\"]==\"PhD\")]\n",
        "female_phd = df.Salary[(df[\"Gender\"]==\"Female\") & (df[\"Education New\"]==\"PhD\")]\n",
        "\n",
        "# Calculo de los intervalos de confianza por nivel de educacion\n",
        "print({smsw.zconfint(male_high_school, female_high_school, ddof=0)},\"Intervalo de Mujeres y Varones en High School\")\n",
        "print({smsw.zconfint(male_bachelors, female_bachelors, ddof=0)},\"Intervalo de Mujeres y Varones con Bachelors\")\n",
        "print({smsw.zconfint(male_masters, female_masters, ddof=0)},\"Intervalo de Mujeres y Varones con Masters\")\n",
        "print({smsw.zconfint(male_phd, female_phd, ddof=0)},\"Intervalo de Mujeres y Varones con Phd\")\n"
      ],
      "metadata": {
        "colab": {
          "base_uri": "https://localhost:8080/"
        },
        "id": "BMt_WveeEvBY",
        "outputId": "3a848914-c996-476e-a591-568682913b67"
      },
      "execution_count": 55,
      "outputs": [
        {
          "output_type": "stream",
          "name": "stdout",
          "text": [
            "{(5588.686593235742, 11660.720491937089)} Intervalo de Mujeres y Varones en High School\n",
            "{(6612.063783349674, 13001.034178420581)} Intervalo de Mujeres y Varones con Bachelors\n",
            "{(13712.64162240878, 21019.458918054916)} Intervalo de Mujeres y Varones con Masters\n",
            "{(4688.2854173788255, 12201.271944147997)} Intervalo de Mujeres y Varones con Phd\n"
          ]
        }
      ]
    }
  ]
}