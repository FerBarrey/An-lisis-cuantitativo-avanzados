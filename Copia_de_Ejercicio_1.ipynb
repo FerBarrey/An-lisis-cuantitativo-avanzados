{
  "nbformat": 4,
  "nbformat_minor": 0,
  "metadata": {
    "colab": {
      "provenance": [],
      "toc_visible": true,
      "include_colab_link": true
    },
    "kernelspec": {
      "name": "python3",
      "display_name": "Python 3"
    },
    "language_info": {
      "name": "python"
    }
  },
  "cells": [
    {
      "cell_type": "markdown",
      "metadata": {
        "id": "view-in-github",
        "colab_type": "text"
      },
      "source": [
        "<a href=\"https://colab.research.google.com/github/FerBarrey/An-lisis-cuantitativo-avanzados/blob/main/Copia_de_Ejercicio_1.ipynb\" target=\"_parent\"><img src=\"https://colab.research.google.com/assets/colab-badge.svg\" alt=\"Open In Colab\"/></a>"
      ]
    },
    {
      "cell_type": "markdown",
      "source": [
        "# Ejercicio 1\n"
      ],
      "metadata": {
        "id": "VEOT7rO-UDYz"
      }
    },
    {
      "cell_type": "markdown",
      "source": [
        "# Cargar la base"
      ],
      "metadata": {
        "id": "JzX8zrpEYEgn"
      }
    },
    {
      "cell_type": "markdown",
      "source": [
        "Las siguientes celdas cargan desde Kaggle la base de datos del Reporte Mundial de la Felicidad 2019."
      ],
      "metadata": {
        "id": "RmeZOfeqXpyj"
      }
    },
    {
      "cell_type": "code",
      "execution_count": null,
      "metadata": {
        "id": "NsYhF_ynUCcH"
      },
      "outputs": [],
      "source": [
        "import pandas as pd\n",
        "import numpy as np"
      ]
    },
    {
      "cell_type": "code",
      "source": [
        "from google.colab import userdata\n",
        "import json\n",
        "\n",
        "!mkdir ~/.kaggle\n",
        "!touch ~/.kaggle/kaggle.json\n",
        "\n",
        "api_token = {\n",
        "    'username': userdata.get('KAGGLE_USER'),\n",
        "    'key': userdata.get('KAGGLE_KEY')}\n",
        "with open('/root/.kaggle/kaggle.json', 'w') as file:\n",
        "    json.dump(api_token, file)\n",
        "\n",
        "!chmod 600 ~/.kaggle/kaggle.json\n",
        "\n",
        "!kaggle datasets download -d unsdsn/world-happiness"
      ],
      "metadata": {
        "colab": {
          "base_uri": "https://localhost:8080/"
        },
        "id": "WTLg3UnrUTHr",
        "outputId": "6c9fd140-7a01-45cd-b4ff-8cd4d203df59"
      },
      "execution_count": 4,
      "outputs": [
        {
          "output_type": "stream",
          "name": "stdout",
          "text": [
            "mkdir: cannot create directory ‘/root/.kaggle’: File exists\n",
            "Dataset URL: https://www.kaggle.com/datasets/unsdsn/world-happiness\n",
            "License(s): CC0-1.0\n",
            "Downloading world-happiness.zip to /content\n",
            "  0% 0.00/36.8k [00:00<?, ?B/s]\n",
            "100% 36.8k/36.8k [00:00<00:00, 37.5MB/s]\n"
          ]
        }
      ]
    },
    {
      "cell_type": "markdown",
      "source": [
        "¿Cómo se crea el archivo kaggle.json que contiene las credenciales para acceder?\n",
        "\n",
        "1) Es necesario tener una cuenta en kaggle.com\n",
        "\n",
        "\n",
        "2) Ir a la sección Account y generar un API token\n",
        "\n",
        "![image.png](data:image/png;base64,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)\n",
        "\n",
        "3) Con los datos de la key que nos proporciona Kaggle, guardar los datos en los API secrets de Colab."
      ],
      "metadata": {
        "id": "qn0n3KVMVFSc"
      }
    },
    {
      "cell_type": "code",
      "source": [
        "# Extraigo todos los archivos que están en el .zip que acabamos de \"bajar\".\n",
        "\n",
        "import zipfile\n",
        "import os\n",
        "\n",
        "os.listdir()\n",
        "\n",
        "for file in os.listdir():\n",
        "    if file.endswith('.zip'):\n",
        "      zip_ref = zipfile.ZipFile(file, 'r')\n",
        "      zip_ref.extractall()\n",
        "      zip_ref.close()"
      ],
      "metadata": {
        "id": "YG5kXwV4W1W1"
      },
      "execution_count": 5,
      "outputs": []
    },
    {
      "cell_type": "code",
      "source": [
        "# Cargamos la base\n",
        "import pandas as pd\n",
        "df = pd.read_csv('/content/2019.csv')"
      ],
      "metadata": {
        "id": "MqcqJgbfXCLU"
      },
      "execution_count": 8,
      "outputs": []
    },
    {
      "cell_type": "code",
      "source": [
        "df.head(5)"
      ],
      "metadata": {
        "colab": {
          "base_uri": "https://localhost:8080/",
          "height": 241
        },
        "id": "okHeMfY9XErq",
        "outputId": "7e69a28d-d56a-49dc-9538-61ebd82ac7b5"
      },
      "execution_count": 9,
      "outputs": [
        {
          "output_type": "execute_result",
          "data": {
            "text/plain": [
              "   Overall rank Country or region  Score  GDP per capita  Social support  \\\n",
              "0             1           Finland  7.769           1.340           1.587   \n",
              "1             2           Denmark  7.600           1.383           1.573   \n",
              "2             3            Norway  7.554           1.488           1.582   \n",
              "3             4           Iceland  7.494           1.380           1.624   \n",
              "4             5       Netherlands  7.488           1.396           1.522   \n",
              "\n",
              "   Healthy life expectancy  Freedom to make life choices  Generosity  \\\n",
              "0                    0.986                         0.596       0.153   \n",
              "1                    0.996                         0.592       0.252   \n",
              "2                    1.028                         0.603       0.271   \n",
              "3                    1.026                         0.591       0.354   \n",
              "4                    0.999                         0.557       0.322   \n",
              "\n",
              "   Perceptions of corruption  \n",
              "0                      0.393  \n",
              "1                      0.410  \n",
              "2                      0.341  \n",
              "3                      0.118  \n",
              "4                      0.298  "
            ],
            "text/html": [
              "\n",
              "  <div id=\"df-9e0d06c8-1f83-4be1-a6c0-d555faa13d48\" class=\"colab-df-container\">\n",
              "    <div>\n",
              "<style scoped>\n",
              "    .dataframe tbody tr th:only-of-type {\n",
              "        vertical-align: middle;\n",
              "    }\n",
              "\n",
              "    .dataframe tbody tr th {\n",
              "        vertical-align: top;\n",
              "    }\n",
              "\n",
              "    .dataframe thead th {\n",
              "        text-align: right;\n",
              "    }\n",
              "</style>\n",
              "<table border=\"1\" class=\"dataframe\">\n",
              "  <thead>\n",
              "    <tr style=\"text-align: right;\">\n",
              "      <th></th>\n",
              "      <th>Overall rank</th>\n",
              "      <th>Country or region</th>\n",
              "      <th>Score</th>\n",
              "      <th>GDP per capita</th>\n",
              "      <th>Social support</th>\n",
              "      <th>Healthy life expectancy</th>\n",
              "      <th>Freedom to make life choices</th>\n",
              "      <th>Generosity</th>\n",
              "      <th>Perceptions of corruption</th>\n",
              "    </tr>\n",
              "  </thead>\n",
              "  <tbody>\n",
              "    <tr>\n",
              "      <th>0</th>\n",
              "      <td>1</td>\n",
              "      <td>Finland</td>\n",
              "      <td>7.769</td>\n",
              "      <td>1.340</td>\n",
              "      <td>1.587</td>\n",
              "      <td>0.986</td>\n",
              "      <td>0.596</td>\n",
              "      <td>0.153</td>\n",
              "      <td>0.393</td>\n",
              "    </tr>\n",
              "    <tr>\n",
              "      <th>1</th>\n",
              "      <td>2</td>\n",
              "      <td>Denmark</td>\n",
              "      <td>7.600</td>\n",
              "      <td>1.383</td>\n",
              "      <td>1.573</td>\n",
              "      <td>0.996</td>\n",
              "      <td>0.592</td>\n",
              "      <td>0.252</td>\n",
              "      <td>0.410</td>\n",
              "    </tr>\n",
              "    <tr>\n",
              "      <th>2</th>\n",
              "      <td>3</td>\n",
              "      <td>Norway</td>\n",
              "      <td>7.554</td>\n",
              "      <td>1.488</td>\n",
              "      <td>1.582</td>\n",
              "      <td>1.028</td>\n",
              "      <td>0.603</td>\n",
              "      <td>0.271</td>\n",
              "      <td>0.341</td>\n",
              "    </tr>\n",
              "    <tr>\n",
              "      <th>3</th>\n",
              "      <td>4</td>\n",
              "      <td>Iceland</td>\n",
              "      <td>7.494</td>\n",
              "      <td>1.380</td>\n",
              "      <td>1.624</td>\n",
              "      <td>1.026</td>\n",
              "      <td>0.591</td>\n",
              "      <td>0.354</td>\n",
              "      <td>0.118</td>\n",
              "    </tr>\n",
              "    <tr>\n",
              "      <th>4</th>\n",
              "      <td>5</td>\n",
              "      <td>Netherlands</td>\n",
              "      <td>7.488</td>\n",
              "      <td>1.396</td>\n",
              "      <td>1.522</td>\n",
              "      <td>0.999</td>\n",
              "      <td>0.557</td>\n",
              "      <td>0.322</td>\n",
              "      <td>0.298</td>\n",
              "    </tr>\n",
              "  </tbody>\n",
              "</table>\n",
              "</div>\n",
              "    <div class=\"colab-df-buttons\">\n",
              "\n",
              "  <div class=\"colab-df-container\">\n",
              "    <button class=\"colab-df-convert\" onclick=\"convertToInteractive('df-9e0d06c8-1f83-4be1-a6c0-d555faa13d48')\"\n",
              "            title=\"Convert this dataframe to an interactive table.\"\n",
              "            style=\"display:none;\">\n",
              "\n",
              "  <svg xmlns=\"http://www.w3.org/2000/svg\" height=\"24px\" viewBox=\"0 -960 960 960\">\n",
              "    <path d=\"M120-120v-720h720v720H120Zm60-500h600v-160H180v160Zm220 220h160v-160H400v160Zm0 220h160v-160H400v160ZM180-400h160v-160H180v160Zm440 0h160v-160H620v160ZM180-180h160v-160H180v160Zm440 0h160v-160H620v160Z\"/>\n",
              "  </svg>\n",
              "    </button>\n",
              "\n",
              "  <style>\n",
              "    .colab-df-container {\n",
              "      display:flex;\n",
              "      gap: 12px;\n",
              "    }\n",
              "\n",
              "    .colab-df-convert {\n",
              "      background-color: #E8F0FE;\n",
              "      border: none;\n",
              "      border-radius: 50%;\n",
              "      cursor: pointer;\n",
              "      display: none;\n",
              "      fill: #1967D2;\n",
              "      height: 32px;\n",
              "      padding: 0 0 0 0;\n",
              "      width: 32px;\n",
              "    }\n",
              "\n",
              "    .colab-df-convert:hover {\n",
              "      background-color: #E2EBFA;\n",
              "      box-shadow: 0px 1px 2px rgba(60, 64, 67, 0.3), 0px 1px 3px 1px rgba(60, 64, 67, 0.15);\n",
              "      fill: #174EA6;\n",
              "    }\n",
              "\n",
              "    .colab-df-buttons div {\n",
              "      margin-bottom: 4px;\n",
              "    }\n",
              "\n",
              "    [theme=dark] .colab-df-convert {\n",
              "      background-color: #3B4455;\n",
              "      fill: #D2E3FC;\n",
              "    }\n",
              "\n",
              "    [theme=dark] .colab-df-convert:hover {\n",
              "      background-color: #434B5C;\n",
              "      box-shadow: 0px 1px 3px 1px rgba(0, 0, 0, 0.15);\n",
              "      filter: drop-shadow(0px 1px 2px rgba(0, 0, 0, 0.3));\n",
              "      fill: #FFFFFF;\n",
              "    }\n",
              "  </style>\n",
              "\n",
              "    <script>\n",
              "      const buttonEl =\n",
              "        document.querySelector('#df-9e0d06c8-1f83-4be1-a6c0-d555faa13d48 button.colab-df-convert');\n",
              "      buttonEl.style.display =\n",
              "        google.colab.kernel.accessAllowed ? 'block' : 'none';\n",
              "\n",
              "      async function convertToInteractive(key) {\n",
              "        const element = document.querySelector('#df-9e0d06c8-1f83-4be1-a6c0-d555faa13d48');\n",
              "        const dataTable =\n",
              "          await google.colab.kernel.invokeFunction('convertToInteractive',\n",
              "                                                    [key], {});\n",
              "        if (!dataTable) return;\n",
              "\n",
              "        const docLinkHtml = 'Like what you see? Visit the ' +\n",
              "          '<a target=\"_blank\" href=https://colab.research.google.com/notebooks/data_table.ipynb>data table notebook</a>'\n",
              "          + ' to learn more about interactive tables.';\n",
              "        element.innerHTML = '';\n",
              "        dataTable['output_type'] = 'display_data';\n",
              "        await google.colab.output.renderOutput(dataTable, element);\n",
              "        const docLink = document.createElement('div');\n",
              "        docLink.innerHTML = docLinkHtml;\n",
              "        element.appendChild(docLink);\n",
              "      }\n",
              "    </script>\n",
              "  </div>\n",
              "\n",
              "\n",
              "<div id=\"df-8c38a457-1d03-473e-9b05-889951bc3f0e\">\n",
              "  <button class=\"colab-df-quickchart\" onclick=\"quickchart('df-8c38a457-1d03-473e-9b05-889951bc3f0e')\"\n",
              "            title=\"Suggest charts\"\n",
              "            style=\"display:none;\">\n",
              "\n",
              "<svg xmlns=\"http://www.w3.org/2000/svg\" height=\"24px\"viewBox=\"0 0 24 24\"\n",
              "     width=\"24px\">\n",
              "    <g>\n",
              "        <path d=\"M19 3H5c-1.1 0-2 .9-2 2v14c0 1.1.9 2 2 2h14c1.1 0 2-.9 2-2V5c0-1.1-.9-2-2-2zM9 17H7v-7h2v7zm4 0h-2V7h2v10zm4 0h-2v-4h2v4z\"/>\n",
              "    </g>\n",
              "</svg>\n",
              "  </button>\n",
              "\n",
              "<style>\n",
              "  .colab-df-quickchart {\n",
              "      --bg-color: #E8F0FE;\n",
              "      --fill-color: #1967D2;\n",
              "      --hover-bg-color: #E2EBFA;\n",
              "      --hover-fill-color: #174EA6;\n",
              "      --disabled-fill-color: #AAA;\n",
              "      --disabled-bg-color: #DDD;\n",
              "  }\n",
              "\n",
              "  [theme=dark] .colab-df-quickchart {\n",
              "      --bg-color: #3B4455;\n",
              "      --fill-color: #D2E3FC;\n",
              "      --hover-bg-color: #434B5C;\n",
              "      --hover-fill-color: #FFFFFF;\n",
              "      --disabled-bg-color: #3B4455;\n",
              "      --disabled-fill-color: #666;\n",
              "  }\n",
              "\n",
              "  .colab-df-quickchart {\n",
              "    background-color: var(--bg-color);\n",
              "    border: none;\n",
              "    border-radius: 50%;\n",
              "    cursor: pointer;\n",
              "    display: none;\n",
              "    fill: var(--fill-color);\n",
              "    height: 32px;\n",
              "    padding: 0;\n",
              "    width: 32px;\n",
              "  }\n",
              "\n",
              "  .colab-df-quickchart:hover {\n",
              "    background-color: var(--hover-bg-color);\n",
              "    box-shadow: 0 1px 2px rgba(60, 64, 67, 0.3), 0 1px 3px 1px rgba(60, 64, 67, 0.15);\n",
              "    fill: var(--button-hover-fill-color);\n",
              "  }\n",
              "\n",
              "  .colab-df-quickchart-complete:disabled,\n",
              "  .colab-df-quickchart-complete:disabled:hover {\n",
              "    background-color: var(--disabled-bg-color);\n",
              "    fill: var(--disabled-fill-color);\n",
              "    box-shadow: none;\n",
              "  }\n",
              "\n",
              "  .colab-df-spinner {\n",
              "    border: 2px solid var(--fill-color);\n",
              "    border-color: transparent;\n",
              "    border-bottom-color: var(--fill-color);\n",
              "    animation:\n",
              "      spin 1s steps(1) infinite;\n",
              "  }\n",
              "\n",
              "  @keyframes spin {\n",
              "    0% {\n",
              "      border-color: transparent;\n",
              "      border-bottom-color: var(--fill-color);\n",
              "      border-left-color: var(--fill-color);\n",
              "    }\n",
              "    20% {\n",
              "      border-color: transparent;\n",
              "      border-left-color: var(--fill-color);\n",
              "      border-top-color: var(--fill-color);\n",
              "    }\n",
              "    30% {\n",
              "      border-color: transparent;\n",
              "      border-left-color: var(--fill-color);\n",
              "      border-top-color: var(--fill-color);\n",
              "      border-right-color: var(--fill-color);\n",
              "    }\n",
              "    40% {\n",
              "      border-color: transparent;\n",
              "      border-right-color: var(--fill-color);\n",
              "      border-top-color: var(--fill-color);\n",
              "    }\n",
              "    60% {\n",
              "      border-color: transparent;\n",
              "      border-right-color: var(--fill-color);\n",
              "    }\n",
              "    80% {\n",
              "      border-color: transparent;\n",
              "      border-right-color: var(--fill-color);\n",
              "      border-bottom-color: var(--fill-color);\n",
              "    }\n",
              "    90% {\n",
              "      border-color: transparent;\n",
              "      border-bottom-color: var(--fill-color);\n",
              "    }\n",
              "  }\n",
              "</style>\n",
              "\n",
              "  <script>\n",
              "    async function quickchart(key) {\n",
              "      const quickchartButtonEl =\n",
              "        document.querySelector('#' + key + ' button');\n",
              "      quickchartButtonEl.disabled = true;  // To prevent multiple clicks.\n",
              "      quickchartButtonEl.classList.add('colab-df-spinner');\n",
              "      try {\n",
              "        const charts = await google.colab.kernel.invokeFunction(\n",
              "            'suggestCharts', [key], {});\n",
              "      } catch (error) {\n",
              "        console.error('Error during call to suggestCharts:', error);\n",
              "      }\n",
              "      quickchartButtonEl.classList.remove('colab-df-spinner');\n",
              "      quickchartButtonEl.classList.add('colab-df-quickchart-complete');\n",
              "    }\n",
              "    (() => {\n",
              "      let quickchartButtonEl =\n",
              "        document.querySelector('#df-8c38a457-1d03-473e-9b05-889951bc3f0e button');\n",
              "      quickchartButtonEl.style.display =\n",
              "        google.colab.kernel.accessAllowed ? 'block' : 'none';\n",
              "    })();\n",
              "  </script>\n",
              "</div>\n",
              "\n",
              "    </div>\n",
              "  </div>\n"
            ],
            "application/vnd.google.colaboratory.intrinsic+json": {
              "type": "dataframe",
              "variable_name": "df",
              "summary": "{\n  \"name\": \"df\",\n  \"rows\": 156,\n  \"fields\": [\n    {\n      \"column\": \"Overall rank\",\n      \"properties\": {\n        \"dtype\": \"number\",\n        \"std\": 45,\n        \"min\": 1,\n        \"max\": 156,\n        \"num_unique_values\": 156,\n        \"samples\": [\n          97,\n          70,\n          83\n        ],\n        \"semantic_type\": \"\",\n        \"description\": \"\"\n      }\n    },\n    {\n      \"column\": \"Country or region\",\n      \"properties\": {\n        \"dtype\": \"string\",\n        \"num_unique_values\": 156,\n        \"samples\": [\n          \"Bulgaria\",\n          \"Serbia\",\n          \"Mongolia\"\n        ],\n        \"semantic_type\": \"\",\n        \"description\": \"\"\n      }\n    },\n    {\n      \"column\": \"Score\",\n      \"properties\": {\n        \"dtype\": \"number\",\n        \"std\": 1.1131198687956712,\n        \"min\": 2.853,\n        \"max\": 7.769,\n        \"num_unique_values\": 155,\n        \"samples\": [\n          5.287,\n          3.802,\n          6.3\n        ],\n        \"semantic_type\": \"\",\n        \"description\": \"\"\n      }\n    },\n    {\n      \"column\": \"GDP per capita\",\n      \"properties\": {\n        \"dtype\": \"number\",\n        \"std\": 0.39838946424220284,\n        \"min\": 0.0,\n        \"max\": 1.684,\n        \"num_unique_values\": 146,\n        \"samples\": [\n          0.882,\n          0.673,\n          1.403\n        ],\n        \"semantic_type\": \"\",\n        \"description\": \"\"\n      }\n    },\n    {\n      \"column\": \"Social support\",\n      \"properties\": {\n        \"dtype\": \"number\",\n        \"std\": 0.29919140069769296,\n        \"min\": 0.0,\n        \"max\": 1.624,\n        \"num_unique_values\": 145,\n        \"samples\": [\n          1.277,\n          0.711,\n          1.313\n        ],\n        \"semantic_type\": \"\",\n        \"description\": \"\"\n      }\n    },\n    {\n      \"column\": \"Healthy life expectancy\",\n      \"properties\": {\n        \"dtype\": \"number\",\n        \"std\": 0.24212399840537246,\n        \"min\": 0.0,\n        \"max\": 1.141,\n        \"num_unique_values\": 119,\n        \"samples\": [\n          1.122,\n          0.428,\n          0.999\n        ],\n        \"semantic_type\": \"\",\n        \"description\": \"\"\n      }\n    },\n    {\n      \"column\": \"Freedom to make life choices\",\n      \"properties\": {\n        \"dtype\": \"number\",\n        \"std\": 0.1432894707060473,\n        \"min\": 0.0,\n        \"max\": 0.631,\n        \"num_unique_values\": 130,\n        \"samples\": [\n          0.514,\n          0.47,\n          0.598\n        ],\n        \"semantic_type\": \"\",\n        \"description\": \"\"\n      }\n    },\n    {\n      \"column\": \"Generosity\",\n      \"properties\": {\n        \"dtype\": \"number\",\n        \"std\": 0.09525444050922018,\n        \"min\": 0.0,\n        \"max\": 0.566,\n        \"num_unique_values\": 118,\n        \"samples\": [\n          0.047,\n          0.177,\n          0.322\n        ],\n        \"semantic_type\": \"\",\n        \"description\": \"\"\n      }\n    },\n    {\n      \"column\": \"Perceptions of corruption\",\n      \"properties\": {\n        \"dtype\": \"number\",\n        \"std\": 0.09453783536745279,\n        \"min\": 0.0,\n        \"max\": 0.453,\n        \"num_unique_values\": 113,\n        \"samples\": [\n          0.04,\n          0.298,\n          0.24\n        ],\n        \"semantic_type\": \"\",\n        \"description\": \"\"\n      }\n    }\n  ]\n}"
            }
          },
          "metadata": {},
          "execution_count": 9
        }
      ]
    },
    {
      "cell_type": "markdown",
      "source": [
        "# Preguntas"
      ],
      "metadata": {
        "id": "fY1By9hTXiiR"
      }
    },
    {
      "cell_type": "markdown",
      "source": [
        "Pregunta 1:\n",
        "¿Cuál es el score promedio de toda la base?\n",
        "\n",
        "Ayuda: df.Score.mean()"
      ],
      "metadata": {
        "id": "wF57yr-VXV-_"
      }
    },
    {
      "cell_type": "code",
      "source": [
        "df.Score.mean()"
      ],
      "metadata": {
        "id": "iW4GOMHDXgzy",
        "colab": {
          "base_uri": "https://localhost:8080/"
        },
        "outputId": "9ff9053c-8474-4e72-ca5d-6865560c29ab"
      },
      "execution_count": 10,
      "outputs": [
        {
          "output_type": "execute_result",
          "data": {
            "text/plain": [
              "5.407096153846155"
            ]
          },
          "metadata": {},
          "execution_count": 10
        }
      ]
    },
    {
      "cell_type": "markdown",
      "source": [
        "Pregunta 2: ¿Cuál es el país con mayor indidencia de la esperanza de vida en el Score?  (es decir el país que presenta mayor valor en la columna \"Healthy life expectancy\").\n",
        "\n",
        "Ayuda:\n",
        "\n",
        "La función `max()` devuelve el valor máximo de una serie.\n",
        "\n",
        "Por ejemplo: `df['Healthy life expectancy'].max()` devuelve el valor máximo de la esperanza de vida. Pero no es eso lo que se pregunta.\n",
        "\n",
        "La función `idmax()` devuelve el valor de id del valor que maximiza esa serie.\n",
        "\n",
        "Por ejemplo: `df['Healthy life expectancy'].idxmax()` devuelve el id del país con mayor esperanza de vida.\n",
        "\n",
        "Entonces, con `df['Country or region'][indice]` obtengo el nombre del país que maximiza la esperanza de vida, si en \"indice\" pongo el índice de ese país.\n",
        "\n",
        "También podría traer un listado completo de los valores de ese país haciendo `df.loc[indice]`"
      ],
      "metadata": {
        "id": "JoqL3wF3YIp-"
      }
    },
    {
      "cell_type": "code",
      "source": [
        "df['Healthy life expectancy'].max()"
      ],
      "metadata": {
        "id": "jHW_rIiqb5rs",
        "colab": {
          "base_uri": "https://localhost:8080/"
        },
        "outputId": "5fa60f65-f7e6-43a2-a542-2c6432d60053"
      },
      "execution_count": 11,
      "outputs": [
        {
          "output_type": "execute_result",
          "data": {
            "text/plain": [
              "1.141"
            ]
          },
          "metadata": {},
          "execution_count": 11
        }
      ]
    },
    {
      "cell_type": "code",
      "source": [
        "df['Healthy life expectancy'].idxmax()"
      ],
      "metadata": {
        "colab": {
          "base_uri": "https://localhost:8080/"
        },
        "id": "45zbWkWo8bmi",
        "outputId": "282517c8-4704-4db4-ceaa-559ea0fef598"
      },
      "execution_count": 12,
      "outputs": [
        {
          "output_type": "execute_result",
          "data": {
            "text/plain": [
              "33"
            ]
          },
          "metadata": {},
          "execution_count": 12
        }
      ]
    },
    {
      "cell_type": "code",
      "source": [
        "df['Country or region'][33]"
      ],
      "metadata": {
        "colab": {
          "base_uri": "https://localhost:8080/",
          "height": 35
        },
        "id": "GbwQwxLE88KJ",
        "outputId": "69387d49-6694-47d6-9a08-97f38405df7d"
      },
      "execution_count": 15,
      "outputs": [
        {
          "output_type": "execute_result",
          "data": {
            "text/plain": [
              "'Singapore'"
            ],
            "application/vnd.google.colaboratory.intrinsic+json": {
              "type": "string"
            }
          },
          "metadata": {},
          "execution_count": 15
        }
      ]
    },
    {
      "cell_type": "code",
      "source": [
        "df.loc[33]"
      ],
      "metadata": {
        "colab": {
          "base_uri": "https://localhost:8080/",
          "height": 366
        },
        "id": "ixOw2E7c9XU7",
        "outputId": "4fb76521-5bb7-4aa8-cfea-de2488e05947"
      },
      "execution_count": 17,
      "outputs": [
        {
          "output_type": "execute_result",
          "data": {
            "text/plain": [
              "Overall rank                           34\n",
              "Country or region               Singapore\n",
              "Score                               6.262\n",
              "GDP per capita                      1.572\n",
              "Social support                      1.463\n",
              "Healthy life expectancy             1.141\n",
              "Freedom to make life choices        0.556\n",
              "Generosity                          0.271\n",
              "Perceptions of corruption           0.453\n",
              "Name: 33, dtype: object"
            ],
            "text/html": [
              "<div>\n",
              "<style scoped>\n",
              "    .dataframe tbody tr th:only-of-type {\n",
              "        vertical-align: middle;\n",
              "    }\n",
              "\n",
              "    .dataframe tbody tr th {\n",
              "        vertical-align: top;\n",
              "    }\n",
              "\n",
              "    .dataframe thead th {\n",
              "        text-align: right;\n",
              "    }\n",
              "</style>\n",
              "<table border=\"1\" class=\"dataframe\">\n",
              "  <thead>\n",
              "    <tr style=\"text-align: right;\">\n",
              "      <th></th>\n",
              "      <th>33</th>\n",
              "    </tr>\n",
              "  </thead>\n",
              "  <tbody>\n",
              "    <tr>\n",
              "      <th>Overall rank</th>\n",
              "      <td>34</td>\n",
              "    </tr>\n",
              "    <tr>\n",
              "      <th>Country or region</th>\n",
              "      <td>Singapore</td>\n",
              "    </tr>\n",
              "    <tr>\n",
              "      <th>Score</th>\n",
              "      <td>6.262</td>\n",
              "    </tr>\n",
              "    <tr>\n",
              "      <th>GDP per capita</th>\n",
              "      <td>1.572</td>\n",
              "    </tr>\n",
              "    <tr>\n",
              "      <th>Social support</th>\n",
              "      <td>1.463</td>\n",
              "    </tr>\n",
              "    <tr>\n",
              "      <th>Healthy life expectancy</th>\n",
              "      <td>1.141</td>\n",
              "    </tr>\n",
              "    <tr>\n",
              "      <th>Freedom to make life choices</th>\n",
              "      <td>0.556</td>\n",
              "    </tr>\n",
              "    <tr>\n",
              "      <th>Generosity</th>\n",
              "      <td>0.271</td>\n",
              "    </tr>\n",
              "    <tr>\n",
              "      <th>Perceptions of corruption</th>\n",
              "      <td>0.453</td>\n",
              "    </tr>\n",
              "  </tbody>\n",
              "</table>\n",
              "</div><br><label><b>dtype:</b> object</label>"
            ]
          },
          "metadata": {},
          "execution_count": 17
        }
      ]
    },
    {
      "cell_type": "markdown",
      "source": [
        "Pregunta 3: El siguiente código genera un gráfico con los veinte países de menor score de felicidad.\n",
        "\n",
        "\n",
        "\n",
        "```\n",
        "import plotly.express as px\n",
        "fig = px.bar(df.sort_values('Score')[:20].sort_values('Score') ,y='Country or region',\n",
        "             x='Score', title='Los 20 países menos felices',orientation='h',height=600)\n",
        "fig.show()\n",
        "```\n",
        "\n",
        "¿Cómo se podría modificar el mismo, de manera de obtener el gráfico de los 20 países más felices?\n",
        "\n"
      ],
      "metadata": {
        "id": "XtU-XwgacYLJ"
      }
    },
    {
      "cell_type": "code",
      "source": [
        "\n",
        "import plotly.express as px\n",
        "\n",
        "fig = px.bar(df.sort_values('Score')[:20].sort_values('Score') ,y='Country or region',\n",
        "             x='Score', title='Los 20 países menos felices',orientation='h',height=600)\n",
        "fig.show()\n"
      ],
      "metadata": {
        "colab": {
          "base_uri": "https://localhost:8080/",
          "height": 617
        },
        "id": "_B5q2kq0-fLb",
        "outputId": "6458c86f-cd39-4738-b796-9adf0a1a23eb"
      },
      "execution_count": 21,
      "outputs": [
        {
          "output_type": "display_data",
          "data": {
            "text/html": [
              "<html>\n",
              "<head><meta charset=\"utf-8\" /></head>\n",
              "<body>\n",
              "    <div>            <script src=\"https://cdnjs.cloudflare.com/ajax/libs/mathjax/2.7.5/MathJax.js?config=TeX-AMS-MML_SVG\"></script><script type=\"text/javascript\">if (window.MathJax && window.MathJax.Hub && window.MathJax.Hub.Config) {window.MathJax.Hub.Config({SVG: {font: \"STIX-Web\"}});}</script>                <script type=\"text/javascript\">window.PlotlyConfig = {MathJaxConfig: 'local'};</script>\n",
              "        <script charset=\"utf-8\" src=\"https://cdn.plot.ly/plotly-2.24.1.min.js\"></script>                <div id=\"d8f758ae-f587-48ae-9ff8-82a2fafb75a9\" class=\"plotly-graph-div\" style=\"height:600px; width:100%;\"></div>            <script type=\"text/javascript\">                                    window.PLOTLYENV=window.PLOTLYENV || {};                                    if (document.getElementById(\"d8f758ae-f587-48ae-9ff8-82a2fafb75a9\")) {                    Plotly.newPlot(                        \"d8f758ae-f587-48ae-9ff8-82a2fafb75a9\",                        [{\"alignmentgroup\":\"True\",\"hovertemplate\":\"Score=%{x}\\u003cbr\\u003eCountry or region=%{y}\\u003cextra\\u003e\\u003c\\u002fextra\\u003e\",\"legendgroup\":\"\",\"marker\":{\"color\":\"#636efa\",\"pattern\":{\"shape\":\"\"}},\"name\":\"\",\"offsetgroup\":\"\",\"orientation\":\"h\",\"showlegend\":false,\"textposition\":\"auto\",\"x\":[2.853,3.083,3.203,3.231,3.334,3.38,3.41,3.462,3.488,3.597,3.663,3.775,3.802,3.933,3.973,3.975,4.015,4.085,4.107,4.166],\"xaxis\":\"x\",\"y\":[\"South Sudan\",\"Central African Republic\",\"Afghanistan\",\"Tanzania\",\"Rwanda\",\"Yemen\",\"Malawi\",\"Syria\",\"Botswana\",\"Haiti\",\"Zimbabwe\",\"Burundi\",\"Lesotho\",\"Madagascar\",\"Comoros\",\"Liberia\",\"India\",\"Togo\",\"Zambia\",\"Egypt\"],\"yaxis\":\"y\",\"type\":\"bar\"}],                        {\"template\":{\"data\":{\"histogram2dcontour\":[{\"type\":\"histogram2dcontour\",\"colorbar\":{\"outlinewidth\":0,\"ticks\":\"\"},\"colorscale\":[[0.0,\"#0d0887\"],[0.1111111111111111,\"#46039f\"],[0.2222222222222222,\"#7201a8\"],[0.3333333333333333,\"#9c179e\"],[0.4444444444444444,\"#bd3786\"],[0.5555555555555556,\"#d8576b\"],[0.6666666666666666,\"#ed7953\"],[0.7777777777777778,\"#fb9f3a\"],[0.8888888888888888,\"#fdca26\"],[1.0,\"#f0f921\"]]}],\"choropleth\":[{\"type\":\"choropleth\",\"colorbar\":{\"outlinewidth\":0,\"ticks\":\"\"}}],\"histogram2d\":[{\"type\":\"histogram2d\",\"colorbar\":{\"outlinewidth\":0,\"ticks\":\"\"},\"colorscale\":[[0.0,\"#0d0887\"],[0.1111111111111111,\"#46039f\"],[0.2222222222222222,\"#7201a8\"],[0.3333333333333333,\"#9c179e\"],[0.4444444444444444,\"#bd3786\"],[0.5555555555555556,\"#d8576b\"],[0.6666666666666666,\"#ed7953\"],[0.7777777777777778,\"#fb9f3a\"],[0.8888888888888888,\"#fdca26\"],[1.0,\"#f0f921\"]]}],\"heatmap\":[{\"type\":\"heatmap\",\"colorbar\":{\"outlinewidth\":0,\"ticks\":\"\"},\"colorscale\":[[0.0,\"#0d0887\"],[0.1111111111111111,\"#46039f\"],[0.2222222222222222,\"#7201a8\"],[0.3333333333333333,\"#9c179e\"],[0.4444444444444444,\"#bd3786\"],[0.5555555555555556,\"#d8576b\"],[0.6666666666666666,\"#ed7953\"],[0.7777777777777778,\"#fb9f3a\"],[0.8888888888888888,\"#fdca26\"],[1.0,\"#f0f921\"]]}],\"heatmapgl\":[{\"type\":\"heatmapgl\",\"colorbar\":{\"outlinewidth\":0,\"ticks\":\"\"},\"colorscale\":[[0.0,\"#0d0887\"],[0.1111111111111111,\"#46039f\"],[0.2222222222222222,\"#7201a8\"],[0.3333333333333333,\"#9c179e\"],[0.4444444444444444,\"#bd3786\"],[0.5555555555555556,\"#d8576b\"],[0.6666666666666666,\"#ed7953\"],[0.7777777777777778,\"#fb9f3a\"],[0.8888888888888888,\"#fdca26\"],[1.0,\"#f0f921\"]]}],\"contourcarpet\":[{\"type\":\"contourcarpet\",\"colorbar\":{\"outlinewidth\":0,\"ticks\":\"\"}}],\"contour\":[{\"type\":\"contour\",\"colorbar\":{\"outlinewidth\":0,\"ticks\":\"\"},\"colorscale\":[[0.0,\"#0d0887\"],[0.1111111111111111,\"#46039f\"],[0.2222222222222222,\"#7201a8\"],[0.3333333333333333,\"#9c179e\"],[0.4444444444444444,\"#bd3786\"],[0.5555555555555556,\"#d8576b\"],[0.6666666666666666,\"#ed7953\"],[0.7777777777777778,\"#fb9f3a\"],[0.8888888888888888,\"#fdca26\"],[1.0,\"#f0f921\"]]}],\"surface\":[{\"type\":\"surface\",\"colorbar\":{\"outlinewidth\":0,\"ticks\":\"\"},\"colorscale\":[[0.0,\"#0d0887\"],[0.1111111111111111,\"#46039f\"],[0.2222222222222222,\"#7201a8\"],[0.3333333333333333,\"#9c179e\"],[0.4444444444444444,\"#bd3786\"],[0.5555555555555556,\"#d8576b\"],[0.6666666666666666,\"#ed7953\"],[0.7777777777777778,\"#fb9f3a\"],[0.8888888888888888,\"#fdca26\"],[1.0,\"#f0f921\"]]}],\"mesh3d\":[{\"type\":\"mesh3d\",\"colorbar\":{\"outlinewidth\":0,\"ticks\":\"\"}}],\"scatter\":[{\"fillpattern\":{\"fillmode\":\"overlay\",\"size\":10,\"solidity\":0.2},\"type\":\"scatter\"}],\"parcoords\":[{\"type\":\"parcoords\",\"line\":{\"colorbar\":{\"outlinewidth\":0,\"ticks\":\"\"}}}],\"scatterpolargl\":[{\"type\":\"scatterpolargl\",\"marker\":{\"colorbar\":{\"outlinewidth\":0,\"ticks\":\"\"}}}],\"bar\":[{\"error_x\":{\"color\":\"#2a3f5f\"},\"error_y\":{\"color\":\"#2a3f5f\"},\"marker\":{\"line\":{\"color\":\"#E5ECF6\",\"width\":0.5},\"pattern\":{\"fillmode\":\"overlay\",\"size\":10,\"solidity\":0.2}},\"type\":\"bar\"}],\"scattergeo\":[{\"type\":\"scattergeo\",\"marker\":{\"colorbar\":{\"outlinewidth\":0,\"ticks\":\"\"}}}],\"scatterpolar\":[{\"type\":\"scatterpolar\",\"marker\":{\"colorbar\":{\"outlinewidth\":0,\"ticks\":\"\"}}}],\"histogram\":[{\"marker\":{\"pattern\":{\"fillmode\":\"overlay\",\"size\":10,\"solidity\":0.2}},\"type\":\"histogram\"}],\"scattergl\":[{\"type\":\"scattergl\",\"marker\":{\"colorbar\":{\"outlinewidth\":0,\"ticks\":\"\"}}}],\"scatter3d\":[{\"type\":\"scatter3d\",\"line\":{\"colorbar\":{\"outlinewidth\":0,\"ticks\":\"\"}},\"marker\":{\"colorbar\":{\"outlinewidth\":0,\"ticks\":\"\"}}}],\"scattermapbox\":[{\"type\":\"scattermapbox\",\"marker\":{\"colorbar\":{\"outlinewidth\":0,\"ticks\":\"\"}}}],\"scatterternary\":[{\"type\":\"scatterternary\",\"marker\":{\"colorbar\":{\"outlinewidth\":0,\"ticks\":\"\"}}}],\"scattercarpet\":[{\"type\":\"scattercarpet\",\"marker\":{\"colorbar\":{\"outlinewidth\":0,\"ticks\":\"\"}}}],\"carpet\":[{\"aaxis\":{\"endlinecolor\":\"#2a3f5f\",\"gridcolor\":\"white\",\"linecolor\":\"white\",\"minorgridcolor\":\"white\",\"startlinecolor\":\"#2a3f5f\"},\"baxis\":{\"endlinecolor\":\"#2a3f5f\",\"gridcolor\":\"white\",\"linecolor\":\"white\",\"minorgridcolor\":\"white\",\"startlinecolor\":\"#2a3f5f\"},\"type\":\"carpet\"}],\"table\":[{\"cells\":{\"fill\":{\"color\":\"#EBF0F8\"},\"line\":{\"color\":\"white\"}},\"header\":{\"fill\":{\"color\":\"#C8D4E3\"},\"line\":{\"color\":\"white\"}},\"type\":\"table\"}],\"barpolar\":[{\"marker\":{\"line\":{\"color\":\"#E5ECF6\",\"width\":0.5},\"pattern\":{\"fillmode\":\"overlay\",\"size\":10,\"solidity\":0.2}},\"type\":\"barpolar\"}],\"pie\":[{\"automargin\":true,\"type\":\"pie\"}]},\"layout\":{\"autotypenumbers\":\"strict\",\"colorway\":[\"#636efa\",\"#EF553B\",\"#00cc96\",\"#ab63fa\",\"#FFA15A\",\"#19d3f3\",\"#FF6692\",\"#B6E880\",\"#FF97FF\",\"#FECB52\"],\"font\":{\"color\":\"#2a3f5f\"},\"hovermode\":\"closest\",\"hoverlabel\":{\"align\":\"left\"},\"paper_bgcolor\":\"white\",\"plot_bgcolor\":\"#E5ECF6\",\"polar\":{\"bgcolor\":\"#E5ECF6\",\"angularaxis\":{\"gridcolor\":\"white\",\"linecolor\":\"white\",\"ticks\":\"\"},\"radialaxis\":{\"gridcolor\":\"white\",\"linecolor\":\"white\",\"ticks\":\"\"}},\"ternary\":{\"bgcolor\":\"#E5ECF6\",\"aaxis\":{\"gridcolor\":\"white\",\"linecolor\":\"white\",\"ticks\":\"\"},\"baxis\":{\"gridcolor\":\"white\",\"linecolor\":\"white\",\"ticks\":\"\"},\"caxis\":{\"gridcolor\":\"white\",\"linecolor\":\"white\",\"ticks\":\"\"}},\"coloraxis\":{\"colorbar\":{\"outlinewidth\":0,\"ticks\":\"\"}},\"colorscale\":{\"sequential\":[[0.0,\"#0d0887\"],[0.1111111111111111,\"#46039f\"],[0.2222222222222222,\"#7201a8\"],[0.3333333333333333,\"#9c179e\"],[0.4444444444444444,\"#bd3786\"],[0.5555555555555556,\"#d8576b\"],[0.6666666666666666,\"#ed7953\"],[0.7777777777777778,\"#fb9f3a\"],[0.8888888888888888,\"#fdca26\"],[1.0,\"#f0f921\"]],\"sequentialminus\":[[0.0,\"#0d0887\"],[0.1111111111111111,\"#46039f\"],[0.2222222222222222,\"#7201a8\"],[0.3333333333333333,\"#9c179e\"],[0.4444444444444444,\"#bd3786\"],[0.5555555555555556,\"#d8576b\"],[0.6666666666666666,\"#ed7953\"],[0.7777777777777778,\"#fb9f3a\"],[0.8888888888888888,\"#fdca26\"],[1.0,\"#f0f921\"]],\"diverging\":[[0,\"#8e0152\"],[0.1,\"#c51b7d\"],[0.2,\"#de77ae\"],[0.3,\"#f1b6da\"],[0.4,\"#fde0ef\"],[0.5,\"#f7f7f7\"],[0.6,\"#e6f5d0\"],[0.7,\"#b8e186\"],[0.8,\"#7fbc41\"],[0.9,\"#4d9221\"],[1,\"#276419\"]]},\"xaxis\":{\"gridcolor\":\"white\",\"linecolor\":\"white\",\"ticks\":\"\",\"title\":{\"standoff\":15},\"zerolinecolor\":\"white\",\"automargin\":true,\"zerolinewidth\":2},\"yaxis\":{\"gridcolor\":\"white\",\"linecolor\":\"white\",\"ticks\":\"\",\"title\":{\"standoff\":15},\"zerolinecolor\":\"white\",\"automargin\":true,\"zerolinewidth\":2},\"scene\":{\"xaxis\":{\"backgroundcolor\":\"#E5ECF6\",\"gridcolor\":\"white\",\"linecolor\":\"white\",\"showbackground\":true,\"ticks\":\"\",\"zerolinecolor\":\"white\",\"gridwidth\":2},\"yaxis\":{\"backgroundcolor\":\"#E5ECF6\",\"gridcolor\":\"white\",\"linecolor\":\"white\",\"showbackground\":true,\"ticks\":\"\",\"zerolinecolor\":\"white\",\"gridwidth\":2},\"zaxis\":{\"backgroundcolor\":\"#E5ECF6\",\"gridcolor\":\"white\",\"linecolor\":\"white\",\"showbackground\":true,\"ticks\":\"\",\"zerolinecolor\":\"white\",\"gridwidth\":2}},\"shapedefaults\":{\"line\":{\"color\":\"#2a3f5f\"}},\"annotationdefaults\":{\"arrowcolor\":\"#2a3f5f\",\"arrowhead\":0,\"arrowwidth\":1},\"geo\":{\"bgcolor\":\"white\",\"landcolor\":\"#E5ECF6\",\"subunitcolor\":\"white\",\"showland\":true,\"showlakes\":true,\"lakecolor\":\"white\"},\"title\":{\"x\":0.05},\"mapbox\":{\"style\":\"light\"}}},\"xaxis\":{\"anchor\":\"y\",\"domain\":[0.0,1.0],\"title\":{\"text\":\"Score\"}},\"yaxis\":{\"anchor\":\"x\",\"domain\":[0.0,1.0],\"title\":{\"text\":\"Country or region\"}},\"legend\":{\"tracegroupgap\":0},\"title\":{\"text\":\"Los 20 pa\\u00edses menos felices\"},\"barmode\":\"relative\",\"height\":600},                        {\"responsive\": true}                    ).then(function(){\n",
              "                            \n",
              "var gd = document.getElementById('d8f758ae-f587-48ae-9ff8-82a2fafb75a9');\n",
              "var x = new MutationObserver(function (mutations, observer) {{\n",
              "        var display = window.getComputedStyle(gd).display;\n",
              "        if (!display || display === 'none') {{\n",
              "            console.log([gd, 'removed!']);\n",
              "            Plotly.purge(gd);\n",
              "            observer.disconnect();\n",
              "        }}\n",
              "}});\n",
              "\n",
              "// Listen for the removal of the full notebook cells\n",
              "var notebookContainer = gd.closest('#notebook-container');\n",
              "if (notebookContainer) {{\n",
              "    x.observe(notebookContainer, {childList: true});\n",
              "}}\n",
              "\n",
              "// Listen for the clearing of the current output cell\n",
              "var outputEl = gd.closest('.output');\n",
              "if (outputEl) {{\n",
              "    x.observe(outputEl, {childList: true});\n",
              "}}\n",
              "\n",
              "                        })                };                            </script>        </div>\n",
              "</body>\n",
              "</html>"
            ]
          },
          "metadata": {}
        }
      ]
    },
    {
      "cell_type": "markdown",
      "source": [
        "¿Cómo se podría modificar el mismo, de manera de obtener el gráfico de los 20 países más felices?"
      ],
      "metadata": {
        "id": "kPkT-HlS_8BL"
      }
    },
    {
      "cell_type": "code",
      "source": [
        "# prompt: Modifica ahora el codigo para que el grafico muestre los 20 paises más felices\n",
        "\n",
        "fig = px.bar(df.sort_values('Score', ascending=False)[:20], y='Country or region',\n",
        "             x='Score', title='Los 20 países más felices', orientation='h', height=600)\n",
        "fig.show()\n"
      ],
      "metadata": {
        "colab": {
          "base_uri": "https://localhost:8080/",
          "height": 617
        },
        "id": "7LRFbG7EA7ei",
        "outputId": "b68f9b50-9303-4a9b-a0c2-947d433267ac"
      },
      "execution_count": 24,
      "outputs": [
        {
          "output_type": "display_data",
          "data": {
            "text/html": [
              "<html>\n",
              "<head><meta charset=\"utf-8\" /></head>\n",
              "<body>\n",
              "    <div>            <script src=\"https://cdnjs.cloudflare.com/ajax/libs/mathjax/2.7.5/MathJax.js?config=TeX-AMS-MML_SVG\"></script><script type=\"text/javascript\">if (window.MathJax && window.MathJax.Hub && window.MathJax.Hub.Config) {window.MathJax.Hub.Config({SVG: {font: \"STIX-Web\"}});}</script>                <script type=\"text/javascript\">window.PlotlyConfig = {MathJaxConfig: 'local'};</script>\n",
              "        <script charset=\"utf-8\" src=\"https://cdn.plot.ly/plotly-2.24.1.min.js\"></script>                <div id=\"5f250a69-7f01-4015-8126-ead13e5efe36\" class=\"plotly-graph-div\" style=\"height:600px; width:100%;\"></div>            <script type=\"text/javascript\">                                    window.PLOTLYENV=window.PLOTLYENV || {};                                    if (document.getElementById(\"5f250a69-7f01-4015-8126-ead13e5efe36\")) {                    Plotly.newPlot(                        \"5f250a69-7f01-4015-8126-ead13e5efe36\",                        [{\"alignmentgroup\":\"True\",\"hovertemplate\":\"Score=%{x}\\u003cbr\\u003eCountry or region=%{y}\\u003cextra\\u003e\\u003c\\u002fextra\\u003e\",\"legendgroup\":\"\",\"marker\":{\"color\":\"#636efa\",\"pattern\":{\"shape\":\"\"}},\"name\":\"\",\"offsetgroup\":\"\",\"orientation\":\"h\",\"showlegend\":false,\"textposition\":\"auto\",\"x\":[7.769,7.6,7.554,7.494,7.488,7.48,7.343,7.307,7.278,7.246,7.228,7.167,7.139,7.09,7.054,7.021,6.985,6.923,6.892,6.852],\"xaxis\":\"x\",\"y\":[\"Finland\",\"Denmark\",\"Norway\",\"Iceland\",\"Netherlands\",\"Switzerland\",\"Sweden\",\"New Zealand\",\"Canada\",\"Austria\",\"Australia\",\"Costa Rica\",\"Israel\",\"Luxembourg\",\"United Kingdom\",\"Ireland\",\"Germany\",\"Belgium\",\"United States\",\"Czech Republic\"],\"yaxis\":\"y\",\"type\":\"bar\"}],                        {\"template\":{\"data\":{\"histogram2dcontour\":[{\"type\":\"histogram2dcontour\",\"colorbar\":{\"outlinewidth\":0,\"ticks\":\"\"},\"colorscale\":[[0.0,\"#0d0887\"],[0.1111111111111111,\"#46039f\"],[0.2222222222222222,\"#7201a8\"],[0.3333333333333333,\"#9c179e\"],[0.4444444444444444,\"#bd3786\"],[0.5555555555555556,\"#d8576b\"],[0.6666666666666666,\"#ed7953\"],[0.7777777777777778,\"#fb9f3a\"],[0.8888888888888888,\"#fdca26\"],[1.0,\"#f0f921\"]]}],\"choropleth\":[{\"type\":\"choropleth\",\"colorbar\":{\"outlinewidth\":0,\"ticks\":\"\"}}],\"histogram2d\":[{\"type\":\"histogram2d\",\"colorbar\":{\"outlinewidth\":0,\"ticks\":\"\"},\"colorscale\":[[0.0,\"#0d0887\"],[0.1111111111111111,\"#46039f\"],[0.2222222222222222,\"#7201a8\"],[0.3333333333333333,\"#9c179e\"],[0.4444444444444444,\"#bd3786\"],[0.5555555555555556,\"#d8576b\"],[0.6666666666666666,\"#ed7953\"],[0.7777777777777778,\"#fb9f3a\"],[0.8888888888888888,\"#fdca26\"],[1.0,\"#f0f921\"]]}],\"heatmap\":[{\"type\":\"heatmap\",\"colorbar\":{\"outlinewidth\":0,\"ticks\":\"\"},\"colorscale\":[[0.0,\"#0d0887\"],[0.1111111111111111,\"#46039f\"],[0.2222222222222222,\"#7201a8\"],[0.3333333333333333,\"#9c179e\"],[0.4444444444444444,\"#bd3786\"],[0.5555555555555556,\"#d8576b\"],[0.6666666666666666,\"#ed7953\"],[0.7777777777777778,\"#fb9f3a\"],[0.8888888888888888,\"#fdca26\"],[1.0,\"#f0f921\"]]}],\"heatmapgl\":[{\"type\":\"heatmapgl\",\"colorbar\":{\"outlinewidth\":0,\"ticks\":\"\"},\"colorscale\":[[0.0,\"#0d0887\"],[0.1111111111111111,\"#46039f\"],[0.2222222222222222,\"#7201a8\"],[0.3333333333333333,\"#9c179e\"],[0.4444444444444444,\"#bd3786\"],[0.5555555555555556,\"#d8576b\"],[0.6666666666666666,\"#ed7953\"],[0.7777777777777778,\"#fb9f3a\"],[0.8888888888888888,\"#fdca26\"],[1.0,\"#f0f921\"]]}],\"contourcarpet\":[{\"type\":\"contourcarpet\",\"colorbar\":{\"outlinewidth\":0,\"ticks\":\"\"}}],\"contour\":[{\"type\":\"contour\",\"colorbar\":{\"outlinewidth\":0,\"ticks\":\"\"},\"colorscale\":[[0.0,\"#0d0887\"],[0.1111111111111111,\"#46039f\"],[0.2222222222222222,\"#7201a8\"],[0.3333333333333333,\"#9c179e\"],[0.4444444444444444,\"#bd3786\"],[0.5555555555555556,\"#d8576b\"],[0.6666666666666666,\"#ed7953\"],[0.7777777777777778,\"#fb9f3a\"],[0.8888888888888888,\"#fdca26\"],[1.0,\"#f0f921\"]]}],\"surface\":[{\"type\":\"surface\",\"colorbar\":{\"outlinewidth\":0,\"ticks\":\"\"},\"colorscale\":[[0.0,\"#0d0887\"],[0.1111111111111111,\"#46039f\"],[0.2222222222222222,\"#7201a8\"],[0.3333333333333333,\"#9c179e\"],[0.4444444444444444,\"#bd3786\"],[0.5555555555555556,\"#d8576b\"],[0.6666666666666666,\"#ed7953\"],[0.7777777777777778,\"#fb9f3a\"],[0.8888888888888888,\"#fdca26\"],[1.0,\"#f0f921\"]]}],\"mesh3d\":[{\"type\":\"mesh3d\",\"colorbar\":{\"outlinewidth\":0,\"ticks\":\"\"}}],\"scatter\":[{\"fillpattern\":{\"fillmode\":\"overlay\",\"size\":10,\"solidity\":0.2},\"type\":\"scatter\"}],\"parcoords\":[{\"type\":\"parcoords\",\"line\":{\"colorbar\":{\"outlinewidth\":0,\"ticks\":\"\"}}}],\"scatterpolargl\":[{\"type\":\"scatterpolargl\",\"marker\":{\"colorbar\":{\"outlinewidth\":0,\"ticks\":\"\"}}}],\"bar\":[{\"error_x\":{\"color\":\"#2a3f5f\"},\"error_y\":{\"color\":\"#2a3f5f\"},\"marker\":{\"line\":{\"color\":\"#E5ECF6\",\"width\":0.5},\"pattern\":{\"fillmode\":\"overlay\",\"size\":10,\"solidity\":0.2}},\"type\":\"bar\"}],\"scattergeo\":[{\"type\":\"scattergeo\",\"marker\":{\"colorbar\":{\"outlinewidth\":0,\"ticks\":\"\"}}}],\"scatterpolar\":[{\"type\":\"scatterpolar\",\"marker\":{\"colorbar\":{\"outlinewidth\":0,\"ticks\":\"\"}}}],\"histogram\":[{\"marker\":{\"pattern\":{\"fillmode\":\"overlay\",\"size\":10,\"solidity\":0.2}},\"type\":\"histogram\"}],\"scattergl\":[{\"type\":\"scattergl\",\"marker\":{\"colorbar\":{\"outlinewidth\":0,\"ticks\":\"\"}}}],\"scatter3d\":[{\"type\":\"scatter3d\",\"line\":{\"colorbar\":{\"outlinewidth\":0,\"ticks\":\"\"}},\"marker\":{\"colorbar\":{\"outlinewidth\":0,\"ticks\":\"\"}}}],\"scattermapbox\":[{\"type\":\"scattermapbox\",\"marker\":{\"colorbar\":{\"outlinewidth\":0,\"ticks\":\"\"}}}],\"scatterternary\":[{\"type\":\"scatterternary\",\"marker\":{\"colorbar\":{\"outlinewidth\":0,\"ticks\":\"\"}}}],\"scattercarpet\":[{\"type\":\"scattercarpet\",\"marker\":{\"colorbar\":{\"outlinewidth\":0,\"ticks\":\"\"}}}],\"carpet\":[{\"aaxis\":{\"endlinecolor\":\"#2a3f5f\",\"gridcolor\":\"white\",\"linecolor\":\"white\",\"minorgridcolor\":\"white\",\"startlinecolor\":\"#2a3f5f\"},\"baxis\":{\"endlinecolor\":\"#2a3f5f\",\"gridcolor\":\"white\",\"linecolor\":\"white\",\"minorgridcolor\":\"white\",\"startlinecolor\":\"#2a3f5f\"},\"type\":\"carpet\"}],\"table\":[{\"cells\":{\"fill\":{\"color\":\"#EBF0F8\"},\"line\":{\"color\":\"white\"}},\"header\":{\"fill\":{\"color\":\"#C8D4E3\"},\"line\":{\"color\":\"white\"}},\"type\":\"table\"}],\"barpolar\":[{\"marker\":{\"line\":{\"color\":\"#E5ECF6\",\"width\":0.5},\"pattern\":{\"fillmode\":\"overlay\",\"size\":10,\"solidity\":0.2}},\"type\":\"barpolar\"}],\"pie\":[{\"automargin\":true,\"type\":\"pie\"}]},\"layout\":{\"autotypenumbers\":\"strict\",\"colorway\":[\"#636efa\",\"#EF553B\",\"#00cc96\",\"#ab63fa\",\"#FFA15A\",\"#19d3f3\",\"#FF6692\",\"#B6E880\",\"#FF97FF\",\"#FECB52\"],\"font\":{\"color\":\"#2a3f5f\"},\"hovermode\":\"closest\",\"hoverlabel\":{\"align\":\"left\"},\"paper_bgcolor\":\"white\",\"plot_bgcolor\":\"#E5ECF6\",\"polar\":{\"bgcolor\":\"#E5ECF6\",\"angularaxis\":{\"gridcolor\":\"white\",\"linecolor\":\"white\",\"ticks\":\"\"},\"radialaxis\":{\"gridcolor\":\"white\",\"linecolor\":\"white\",\"ticks\":\"\"}},\"ternary\":{\"bgcolor\":\"#E5ECF6\",\"aaxis\":{\"gridcolor\":\"white\",\"linecolor\":\"white\",\"ticks\":\"\"},\"baxis\":{\"gridcolor\":\"white\",\"linecolor\":\"white\",\"ticks\":\"\"},\"caxis\":{\"gridcolor\":\"white\",\"linecolor\":\"white\",\"ticks\":\"\"}},\"coloraxis\":{\"colorbar\":{\"outlinewidth\":0,\"ticks\":\"\"}},\"colorscale\":{\"sequential\":[[0.0,\"#0d0887\"],[0.1111111111111111,\"#46039f\"],[0.2222222222222222,\"#7201a8\"],[0.3333333333333333,\"#9c179e\"],[0.4444444444444444,\"#bd3786\"],[0.5555555555555556,\"#d8576b\"],[0.6666666666666666,\"#ed7953\"],[0.7777777777777778,\"#fb9f3a\"],[0.8888888888888888,\"#fdca26\"],[1.0,\"#f0f921\"]],\"sequentialminus\":[[0.0,\"#0d0887\"],[0.1111111111111111,\"#46039f\"],[0.2222222222222222,\"#7201a8\"],[0.3333333333333333,\"#9c179e\"],[0.4444444444444444,\"#bd3786\"],[0.5555555555555556,\"#d8576b\"],[0.6666666666666666,\"#ed7953\"],[0.7777777777777778,\"#fb9f3a\"],[0.8888888888888888,\"#fdca26\"],[1.0,\"#f0f921\"]],\"diverging\":[[0,\"#8e0152\"],[0.1,\"#c51b7d\"],[0.2,\"#de77ae\"],[0.3,\"#f1b6da\"],[0.4,\"#fde0ef\"],[0.5,\"#f7f7f7\"],[0.6,\"#e6f5d0\"],[0.7,\"#b8e186\"],[0.8,\"#7fbc41\"],[0.9,\"#4d9221\"],[1,\"#276419\"]]},\"xaxis\":{\"gridcolor\":\"white\",\"linecolor\":\"white\",\"ticks\":\"\",\"title\":{\"standoff\":15},\"zerolinecolor\":\"white\",\"automargin\":true,\"zerolinewidth\":2},\"yaxis\":{\"gridcolor\":\"white\",\"linecolor\":\"white\",\"ticks\":\"\",\"title\":{\"standoff\":15},\"zerolinecolor\":\"white\",\"automargin\":true,\"zerolinewidth\":2},\"scene\":{\"xaxis\":{\"backgroundcolor\":\"#E5ECF6\",\"gridcolor\":\"white\",\"linecolor\":\"white\",\"showbackground\":true,\"ticks\":\"\",\"zerolinecolor\":\"white\",\"gridwidth\":2},\"yaxis\":{\"backgroundcolor\":\"#E5ECF6\",\"gridcolor\":\"white\",\"linecolor\":\"white\",\"showbackground\":true,\"ticks\":\"\",\"zerolinecolor\":\"white\",\"gridwidth\":2},\"zaxis\":{\"backgroundcolor\":\"#E5ECF6\",\"gridcolor\":\"white\",\"linecolor\":\"white\",\"showbackground\":true,\"ticks\":\"\",\"zerolinecolor\":\"white\",\"gridwidth\":2}},\"shapedefaults\":{\"line\":{\"color\":\"#2a3f5f\"}},\"annotationdefaults\":{\"arrowcolor\":\"#2a3f5f\",\"arrowhead\":0,\"arrowwidth\":1},\"geo\":{\"bgcolor\":\"white\",\"landcolor\":\"#E5ECF6\",\"subunitcolor\":\"white\",\"showland\":true,\"showlakes\":true,\"lakecolor\":\"white\"},\"title\":{\"x\":0.05},\"mapbox\":{\"style\":\"light\"}}},\"xaxis\":{\"anchor\":\"y\",\"domain\":[0.0,1.0],\"title\":{\"text\":\"Score\"}},\"yaxis\":{\"anchor\":\"x\",\"domain\":[0.0,1.0],\"title\":{\"text\":\"Country or region\"}},\"legend\":{\"tracegroupgap\":0},\"title\":{\"text\":\"Los 20 pa\\u00edses m\\u00e1s felices\"},\"barmode\":\"relative\",\"height\":600},                        {\"responsive\": true}                    ).then(function(){\n",
              "                            \n",
              "var gd = document.getElementById('5f250a69-7f01-4015-8126-ead13e5efe36');\n",
              "var x = new MutationObserver(function (mutations, observer) {{\n",
              "        var display = window.getComputedStyle(gd).display;\n",
              "        if (!display || display === 'none') {{\n",
              "            console.log([gd, 'removed!']);\n",
              "            Plotly.purge(gd);\n",
              "            observer.disconnect();\n",
              "        }}\n",
              "}});\n",
              "\n",
              "// Listen for the removal of the full notebook cells\n",
              "var notebookContainer = gd.closest('#notebook-container');\n",
              "if (notebookContainer) {{\n",
              "    x.observe(notebookContainer, {childList: true});\n",
              "}}\n",
              "\n",
              "// Listen for the clearing of the current output cell\n",
              "var outputEl = gd.closest('.output');\n",
              "if (outputEl) {{\n",
              "    x.observe(outputEl, {childList: true});\n",
              "}}\n",
              "\n",
              "                        })                };                            </script>        </div>\n",
              "</body>\n",
              "</html>"
            ]
          },
          "metadata": {}
        }
      ]
    },
    {
      "cell_type": "markdown",
      "source": [
        "Pregunta 4: El siguiente código ajusta una regresión lineal con tres variables independientes para predecir la felicidad.\n",
        "\n",
        "\n",
        "\n",
        "```\n",
        "from sklearn import linear_model\n",
        "\n",
        "series=['GDP per capita','Social support', 'Healthy life expectancy']\n",
        "X=df[series]\n",
        "y=df['Score']\n",
        "\n",
        "lr = linear_model.LinearRegression()\n",
        "lr.fit(X, y)\n",
        "```\n",
        "\n",
        "¿Cuál es el R2? ¿Cuáles son los parámetros aprendidos (coeficientes e intercepto)?\n",
        "\n",
        "Ayuda: lr.score(X,y), lr.coef_, lr.intercept_\n"
      ],
      "metadata": {
        "id": "AlnCMDK6dTwT"
      }
    },
    {
      "cell_type": "code",
      "source": [
        "from sklearn import linear_model\n",
        "\n",
        "series = ['GDP per capita', 'Social support', 'Healthy life expectancy']\n",
        "X = df[series]\n",
        "y = df['Score']\n",
        "\n",
        "lr = linear_model.LinearRegression()\n",
        "lr.fit(X, y)\n"
      ],
      "metadata": {
        "colab": {
          "base_uri": "https://localhost:8080/",
          "height": 74
        },
        "id": "xtwBZkNHCOvK",
        "outputId": "5d92ea3f-e6e7-47ce-b10f-1eb9eb87e1ad"
      },
      "execution_count": 30,
      "outputs": [
        {
          "output_type": "execute_result",
          "data": {
            "text/plain": [
              "LinearRegression()"
            ],
            "text/html": [
              "<style>#sk-container-id-1 {color: black;}#sk-container-id-1 pre{padding: 0;}#sk-container-id-1 div.sk-toggleable {background-color: white;}#sk-container-id-1 label.sk-toggleable__label {cursor: pointer;display: block;width: 100%;margin-bottom: 0;padding: 0.3em;box-sizing: border-box;text-align: center;}#sk-container-id-1 label.sk-toggleable__label-arrow:before {content: \"▸\";float: left;margin-right: 0.25em;color: #696969;}#sk-container-id-1 label.sk-toggleable__label-arrow:hover:before {color: black;}#sk-container-id-1 div.sk-estimator:hover label.sk-toggleable__label-arrow:before {color: black;}#sk-container-id-1 div.sk-toggleable__content {max-height: 0;max-width: 0;overflow: hidden;text-align: left;background-color: #f0f8ff;}#sk-container-id-1 div.sk-toggleable__content pre {margin: 0.2em;color: black;border-radius: 0.25em;background-color: #f0f8ff;}#sk-container-id-1 input.sk-toggleable__control:checked~div.sk-toggleable__content {max-height: 200px;max-width: 100%;overflow: auto;}#sk-container-id-1 input.sk-toggleable__control:checked~label.sk-toggleable__label-arrow:before {content: \"▾\";}#sk-container-id-1 div.sk-estimator input.sk-toggleable__control:checked~label.sk-toggleable__label {background-color: #d4ebff;}#sk-container-id-1 div.sk-label input.sk-toggleable__control:checked~label.sk-toggleable__label {background-color: #d4ebff;}#sk-container-id-1 input.sk-hidden--visually {border: 0;clip: rect(1px 1px 1px 1px);clip: rect(1px, 1px, 1px, 1px);height: 1px;margin: -1px;overflow: hidden;padding: 0;position: absolute;width: 1px;}#sk-container-id-1 div.sk-estimator {font-family: monospace;background-color: #f0f8ff;border: 1px dotted black;border-radius: 0.25em;box-sizing: border-box;margin-bottom: 0.5em;}#sk-container-id-1 div.sk-estimator:hover {background-color: #d4ebff;}#sk-container-id-1 div.sk-parallel-item::after {content: \"\";width: 100%;border-bottom: 1px solid gray;flex-grow: 1;}#sk-container-id-1 div.sk-label:hover label.sk-toggleable__label {background-color: #d4ebff;}#sk-container-id-1 div.sk-serial::before {content: \"\";position: absolute;border-left: 1px solid gray;box-sizing: border-box;top: 0;bottom: 0;left: 50%;z-index: 0;}#sk-container-id-1 div.sk-serial {display: flex;flex-direction: column;align-items: center;background-color: white;padding-right: 0.2em;padding-left: 0.2em;position: relative;}#sk-container-id-1 div.sk-item {position: relative;z-index: 1;}#sk-container-id-1 div.sk-parallel {display: flex;align-items: stretch;justify-content: center;background-color: white;position: relative;}#sk-container-id-1 div.sk-item::before, #sk-container-id-1 div.sk-parallel-item::before {content: \"\";position: absolute;border-left: 1px solid gray;box-sizing: border-box;top: 0;bottom: 0;left: 50%;z-index: -1;}#sk-container-id-1 div.sk-parallel-item {display: flex;flex-direction: column;z-index: 1;position: relative;background-color: white;}#sk-container-id-1 div.sk-parallel-item:first-child::after {align-self: flex-end;width: 50%;}#sk-container-id-1 div.sk-parallel-item:last-child::after {align-self: flex-start;width: 50%;}#sk-container-id-1 div.sk-parallel-item:only-child::after {width: 0;}#sk-container-id-1 div.sk-dashed-wrapped {border: 1px dashed gray;margin: 0 0.4em 0.5em 0.4em;box-sizing: border-box;padding-bottom: 0.4em;background-color: white;}#sk-container-id-1 div.sk-label label {font-family: monospace;font-weight: bold;display: inline-block;line-height: 1.2em;}#sk-container-id-1 div.sk-label-container {text-align: center;}#sk-container-id-1 div.sk-container {/* jupyter's `normalize.less` sets `[hidden] { display: none; }` but bootstrap.min.css set `[hidden] { display: none !important; }` so we also need the `!important` here to be able to override the default hidden behavior on the sphinx rendered scikit-learn.org. See: https://github.com/scikit-learn/scikit-learn/issues/21755 */display: inline-block !important;position: relative;}#sk-container-id-1 div.sk-text-repr-fallback {display: none;}</style><div id=\"sk-container-id-1\" class=\"sk-top-container\"><div class=\"sk-text-repr-fallback\"><pre>LinearRegression()</pre><b>In a Jupyter environment, please rerun this cell to show the HTML representation or trust the notebook. <br />On GitHub, the HTML representation is unable to render, please try loading this page with nbviewer.org.</b></div><div class=\"sk-container\" hidden><div class=\"sk-item\"><div class=\"sk-estimator sk-toggleable\"><input class=\"sk-toggleable__control sk-hidden--visually\" id=\"sk-estimator-id-1\" type=\"checkbox\" checked><label for=\"sk-estimator-id-1\" class=\"sk-toggleable__label sk-toggleable__label-arrow\">LinearRegression</label><div class=\"sk-toggleable__content\"><pre>LinearRegression()</pre></div></div></div></div></div>"
            ]
          },
          "metadata": {},
          "execution_count": 30
        }
      ]
    },
    {
      "cell_type": "code",
      "source": [
        "print(lr.score(X, y))\n",
        "print(lr.coef_)\n",
        "print(lr.intercept_)"
      ],
      "metadata": {
        "colab": {
          "base_uri": "https://localhost:8080/"
        },
        "id": "1ScL1PYTFKyJ",
        "outputId": "2061fbec-cb67-44be-8f1b-e67f81390e0e"
      },
      "execution_count": 33,
      "outputs": [
        {
          "output_type": "stream",
          "name": "stdout",
          "text": [
            "0.7263250030611685\n",
            "[0.80982039 1.32188627 1.29767099]\n",
            "2.1350469810161985\n"
          ]
        }
      ]
    },
    {
      "cell_type": "markdown",
      "source": [
        "Pregunta 5: Imaginemos un país con GDP per cápita igual a 1.2, Social Support igual a 1.5 y expectativa de vida igual a 1. ¿Cuál sería el valor de score de felicidad que tendría de acuerdo con el modelo?\n",
        "\n",
        "Ayuda:\n",
        "\n",
        "Se puede hacer con la función integrada en sklearn: lr.predict\n",
        "\n",
        "O \"a mano\": Uno por uno, o usando la función np.matmul\n",
        "\n",
        "El resultado debería ser el mismo en ambos casos, lo que puede servir como chequeo de estar haciendo las cosas bien.\n"
      ],
      "metadata": {
        "id": "W62i72-RfF7W"
      }
    },
    {
      "cell_type": "code",
      "source": [
        "#Usando sklearn\n",
        "from sklearn import linear_model\n",
        "\n",
        "new_data = np.array([[1.2, 1.5, 1]])\n",
        "series = ['GDP per capita', 'Social support', 'Healthy life expectancy']\n",
        "X = df[series]\n",
        "y = df['Score']\n",
        "\n",
        "\n",
        "lr = linear_model.LinearRegression()\n",
        "lr.fit(X, y)\n",
        "print(lr.predict(new_data))\n",
        "\n"
      ],
      "metadata": {
        "colab": {
          "base_uri": "https://localhost:8080/"
        },
        "id": "QoLsT7caQYC4",
        "outputId": "7d8c9e42-e9d8-4cef-c781-6fc64e26b32f"
      },
      "execution_count": 63,
      "outputs": [
        {
          "output_type": "stream",
          "name": "stdout",
          "text": [
            "[6.38733183]\n"
          ]
        },
        {
          "output_type": "stream",
          "name": "stderr",
          "text": [
            "/usr/local/lib/python3.10/dist-packages/sklearn/base.py:465: UserWarning:\n",
            "\n",
            "X does not have valid feature names, but LinearRegression was fitted with feature names\n",
            "\n"
          ]
        }
      ]
    },
    {
      "cell_type": "code",
      "source": [
        "# calculo  los coeficientes del modelo (intercept y pendientes)\n",
        "lrcoef = lr.coef_\n",
        "lrintercept = lr.intercept_\n",
        "\n",
        "\n",
        "# Calculo la predicción usando np.matmul\n",
        "prediction = lrintercept + np.matmul(new_data, lrcoef.T)\n",
        "\n",
        "print(\"La prediccion del Score de felicidad para un país con GDP per cápita igual a 1,2 , Social Support igual a 1.5 Y expectativa de vida igual a 1 es :\", prediction)"
      ],
      "metadata": {
        "colab": {
          "base_uri": "https://localhost:8080/"
        },
        "id": "6Bgg8XVxSMuS",
        "outputId": "34c1b147-2e12-4928-a6ff-e79676785828"
      },
      "execution_count": 74,
      "outputs": [
        {
          "output_type": "stream",
          "name": "stdout",
          "text": [
            "La prediccion del Score de felicidad para un país con GDP per cápita igual a 1,2 , Social Support igual a 1.5 Y expectativa de vida igual a 1 es : [6.38733183]\n"
          ]
        }
      ]
    }
  ]
}