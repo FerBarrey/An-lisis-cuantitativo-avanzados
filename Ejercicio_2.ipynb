{
  "nbformat": 4,
  "nbformat_minor": 0,
  "metadata": {
    "colab": {
      "provenance": [],
      "include_colab_link": true
    },
    "kernelspec": {
      "name": "python3",
      "display_name": "Python 3"
    },
    "language_info": {
      "name": "python"
    }
  },
  "cells": [
    {
      "cell_type": "markdown",
      "metadata": {
        "id": "view-in-github",
        "colab_type": "text"
      },
      "source": [
        "<a href=\"https://colab.research.google.com/github/FerBarrey/An-lisis-cuantitativo-avanzados/blob/main/Ejercicio_2.ipynb\" target=\"_parent\"><img src=\"https://colab.research.google.com/assets/colab-badge.svg\" alt=\"Open In Colab\"/></a>"
      ]
    },
    {
      "cell_type": "markdown",
      "source": [
        "# Ejercicio 2\n",
        "## Cargar la base\n",
        "\n",
        "Para este segundo ejercicio se usa una base de libros disponible en: https://www.kaggle.com/datasets/jealousleopard/goodreadsbooks"
      ],
      "metadata": {
        "id": "Oc6e7HCgBSYq"
      }
    },
    {
      "cell_type": "code",
      "source": [
        "import pandas as pd\n",
        "import numpy as np\n",
        "\n",
        "from google.colab import userdata\n",
        "import json\n",
        "\n",
        "!mkdir ~/.kaggle\n",
        "!touch ~/.kaggle/kaggle.json\n",
        "\n",
        "api_token = {\n",
        "    'username': userdata.get('KAGGLE_USER'),\n",
        "    'key': userdata.get('KAGGLE_KEY')}\n",
        "with open('/root/.kaggle/kaggle.json', 'w') as file:\n",
        "    json.dump(api_token, file)\n",
        "\n",
        "!chmod 600 ~/.kaggle/kaggle.json\n",
        "\n",
        "!kaggle datasets download -d jealousleopard/goodreadsbooks"
      ],
      "metadata": {
        "colab": {
          "base_uri": "https://localhost:8080/"
        },
        "id": "hADc4j2nBUr_",
        "outputId": "ef89fd14-0cdb-41da-873f-739927a19425"
      },
      "execution_count": 1,
      "outputs": [
        {
          "output_type": "stream",
          "name": "stdout",
          "text": [
            "Dataset URL: https://www.kaggle.com/datasets/jealousleopard/goodreadsbooks\n",
            "License(s): CC0-1.0\n",
            "Downloading goodreadsbooks.zip to /content\n",
            "  0% 0.00/622k [00:00<?, ?B/s]\n",
            "100% 622k/622k [00:00<00:00, 74.1MB/s]\n"
          ]
        }
      ]
    },
    {
      "cell_type": "code",
      "source": [
        "# Extraigo todos los archivos que están en el .zip que acabamos de \"bajar\".\n",
        "\n",
        "import zipfile\n",
        "import os\n",
        "\n",
        "os.listdir()\n",
        "\n",
        "for file in os.listdir():\n",
        "    if file.endswith('.zip'):\n",
        "      zip_ref = zipfile.ZipFile(file, 'r')\n",
        "      zip_ref.extractall()\n",
        "      zip_ref.close()"
      ],
      "metadata": {
        "id": "hup9PyUaB2CN"
      },
      "execution_count": 2,
      "outputs": []
    },
    {
      "cell_type": "code",
      "source": [
        "# Cargamos la base\n",
        "df = pd.read_csv('/content/books.csv', on_bad_lines='skip')"
      ],
      "metadata": {
        "id": "zfr0Y1avB6FJ"
      },
      "execution_count": 3,
      "outputs": []
    },
    {
      "cell_type": "code",
      "source": [
        "df.head(2)"
      ],
      "metadata": {
        "colab": {
          "base_uri": "https://localhost:8080/",
          "height": 147
        },
        "id": "hOK1RTXCCd0l",
        "outputId": "f4c5367f-42eb-4ee8-f9b8-9e349f2e8079"
      },
      "execution_count": 4,
      "outputs": [
        {
          "output_type": "execute_result",
          "data": {
            "text/plain": [
              "   bookID                                              title  \\\n",
              "0       1  Harry Potter and the Half-Blood Prince (Harry ...   \n",
              "1       2  Harry Potter and the Order of the Phoenix (Har...   \n",
              "\n",
              "                      authors  average_rating        isbn         isbn13  \\\n",
              "0  J.K. Rowling/Mary GrandPré            4.57  0439785960  9780439785969   \n",
              "1  J.K. Rowling/Mary GrandPré            4.49  0439358078  9780439358071   \n",
              "\n",
              "  language_code    num_pages  ratings_count  text_reviews_count  \\\n",
              "0           eng          652        2095690               27591   \n",
              "1           eng          870        2153167               29221   \n",
              "\n",
              "  publication_date        publisher  \n",
              "0        9/16/2006  Scholastic Inc.  \n",
              "1         9/1/2004  Scholastic Inc.  "
            ],
            "text/html": [
              "\n",
              "  <div id=\"df-2cf40557-a56c-4648-84da-e8e120bc7aaa\" class=\"colab-df-container\">\n",
              "    <div>\n",
              "<style scoped>\n",
              "    .dataframe tbody tr th:only-of-type {\n",
              "        vertical-align: middle;\n",
              "    }\n",
              "\n",
              "    .dataframe tbody tr th {\n",
              "        vertical-align: top;\n",
              "    }\n",
              "\n",
              "    .dataframe thead th {\n",
              "        text-align: right;\n",
              "    }\n",
              "</style>\n",
              "<table border=\"1\" class=\"dataframe\">\n",
              "  <thead>\n",
              "    <tr style=\"text-align: right;\">\n",
              "      <th></th>\n",
              "      <th>bookID</th>\n",
              "      <th>title</th>\n",
              "      <th>authors</th>\n",
              "      <th>average_rating</th>\n",
              "      <th>isbn</th>\n",
              "      <th>isbn13</th>\n",
              "      <th>language_code</th>\n",
              "      <th>num_pages</th>\n",
              "      <th>ratings_count</th>\n",
              "      <th>text_reviews_count</th>\n",
              "      <th>publication_date</th>\n",
              "      <th>publisher</th>\n",
              "    </tr>\n",
              "  </thead>\n",
              "  <tbody>\n",
              "    <tr>\n",
              "      <th>0</th>\n",
              "      <td>1</td>\n",
              "      <td>Harry Potter and the Half-Blood Prince (Harry ...</td>\n",
              "      <td>J.K. Rowling/Mary GrandPré</td>\n",
              "      <td>4.57</td>\n",
              "      <td>0439785960</td>\n",
              "      <td>9780439785969</td>\n",
              "      <td>eng</td>\n",
              "      <td>652</td>\n",
              "      <td>2095690</td>\n",
              "      <td>27591</td>\n",
              "      <td>9/16/2006</td>\n",
              "      <td>Scholastic Inc.</td>\n",
              "    </tr>\n",
              "    <tr>\n",
              "      <th>1</th>\n",
              "      <td>2</td>\n",
              "      <td>Harry Potter and the Order of the Phoenix (Har...</td>\n",
              "      <td>J.K. Rowling/Mary GrandPré</td>\n",
              "      <td>4.49</td>\n",
              "      <td>0439358078</td>\n",
              "      <td>9780439358071</td>\n",
              "      <td>eng</td>\n",
              "      <td>870</td>\n",
              "      <td>2153167</td>\n",
              "      <td>29221</td>\n",
              "      <td>9/1/2004</td>\n",
              "      <td>Scholastic Inc.</td>\n",
              "    </tr>\n",
              "  </tbody>\n",
              "</table>\n",
              "</div>\n",
              "    <div class=\"colab-df-buttons\">\n",
              "\n",
              "  <div class=\"colab-df-container\">\n",
              "    <button class=\"colab-df-convert\" onclick=\"convertToInteractive('df-2cf40557-a56c-4648-84da-e8e120bc7aaa')\"\n",
              "            title=\"Convert this dataframe to an interactive table.\"\n",
              "            style=\"display:none;\">\n",
              "\n",
              "  <svg xmlns=\"http://www.w3.org/2000/svg\" height=\"24px\" viewBox=\"0 -960 960 960\">\n",
              "    <path d=\"M120-120v-720h720v720H120Zm60-500h600v-160H180v160Zm220 220h160v-160H400v160Zm0 220h160v-160H400v160ZM180-400h160v-160H180v160Zm440 0h160v-160H620v160ZM180-180h160v-160H180v160Zm440 0h160v-160H620v160Z\"/>\n",
              "  </svg>\n",
              "    </button>\n",
              "\n",
              "  <style>\n",
              "    .colab-df-container {\n",
              "      display:flex;\n",
              "      gap: 12px;\n",
              "    }\n",
              "\n",
              "    .colab-df-convert {\n",
              "      background-color: #E8F0FE;\n",
              "      border: none;\n",
              "      border-radius: 50%;\n",
              "      cursor: pointer;\n",
              "      display: none;\n",
              "      fill: #1967D2;\n",
              "      height: 32px;\n",
              "      padding: 0 0 0 0;\n",
              "      width: 32px;\n",
              "    }\n",
              "\n",
              "    .colab-df-convert:hover {\n",
              "      background-color: #E2EBFA;\n",
              "      box-shadow: 0px 1px 2px rgba(60, 64, 67, 0.3), 0px 1px 3px 1px rgba(60, 64, 67, 0.15);\n",
              "      fill: #174EA6;\n",
              "    }\n",
              "\n",
              "    .colab-df-buttons div {\n",
              "      margin-bottom: 4px;\n",
              "    }\n",
              "\n",
              "    [theme=dark] .colab-df-convert {\n",
              "      background-color: #3B4455;\n",
              "      fill: #D2E3FC;\n",
              "    }\n",
              "\n",
              "    [theme=dark] .colab-df-convert:hover {\n",
              "      background-color: #434B5C;\n",
              "      box-shadow: 0px 1px 3px 1px rgba(0, 0, 0, 0.15);\n",
              "      filter: drop-shadow(0px 1px 2px rgba(0, 0, 0, 0.3));\n",
              "      fill: #FFFFFF;\n",
              "    }\n",
              "  </style>\n",
              "\n",
              "    <script>\n",
              "      const buttonEl =\n",
              "        document.querySelector('#df-2cf40557-a56c-4648-84da-e8e120bc7aaa button.colab-df-convert');\n",
              "      buttonEl.style.display =\n",
              "        google.colab.kernel.accessAllowed ? 'block' : 'none';\n",
              "\n",
              "      async function convertToInteractive(key) {\n",
              "        const element = document.querySelector('#df-2cf40557-a56c-4648-84da-e8e120bc7aaa');\n",
              "        const dataTable =\n",
              "          await google.colab.kernel.invokeFunction('convertToInteractive',\n",
              "                                                    [key], {});\n",
              "        if (!dataTable) return;\n",
              "\n",
              "        const docLinkHtml = 'Like what you see? Visit the ' +\n",
              "          '<a target=\"_blank\" href=https://colab.research.google.com/notebooks/data_table.ipynb>data table notebook</a>'\n",
              "          + ' to learn more about interactive tables.';\n",
              "        element.innerHTML = '';\n",
              "        dataTable['output_type'] = 'display_data';\n",
              "        await google.colab.output.renderOutput(dataTable, element);\n",
              "        const docLink = document.createElement('div');\n",
              "        docLink.innerHTML = docLinkHtml;\n",
              "        element.appendChild(docLink);\n",
              "      }\n",
              "    </script>\n",
              "  </div>\n",
              "\n",
              "\n",
              "<div id=\"df-2ceb9e93-2871-4658-9ee8-65e17cf8783c\">\n",
              "  <button class=\"colab-df-quickchart\" onclick=\"quickchart('df-2ceb9e93-2871-4658-9ee8-65e17cf8783c')\"\n",
              "            title=\"Suggest charts\"\n",
              "            style=\"display:none;\">\n",
              "\n",
              "<svg xmlns=\"http://www.w3.org/2000/svg\" height=\"24px\"viewBox=\"0 0 24 24\"\n",
              "     width=\"24px\">\n",
              "    <g>\n",
              "        <path d=\"M19 3H5c-1.1 0-2 .9-2 2v14c0 1.1.9 2 2 2h14c1.1 0 2-.9 2-2V5c0-1.1-.9-2-2-2zM9 17H7v-7h2v7zm4 0h-2V7h2v10zm4 0h-2v-4h2v4z\"/>\n",
              "    </g>\n",
              "</svg>\n",
              "  </button>\n",
              "\n",
              "<style>\n",
              "  .colab-df-quickchart {\n",
              "      --bg-color: #E8F0FE;\n",
              "      --fill-color: #1967D2;\n",
              "      --hover-bg-color: #E2EBFA;\n",
              "      --hover-fill-color: #174EA6;\n",
              "      --disabled-fill-color: #AAA;\n",
              "      --disabled-bg-color: #DDD;\n",
              "  }\n",
              "\n",
              "  [theme=dark] .colab-df-quickchart {\n",
              "      --bg-color: #3B4455;\n",
              "      --fill-color: #D2E3FC;\n",
              "      --hover-bg-color: #434B5C;\n",
              "      --hover-fill-color: #FFFFFF;\n",
              "      --disabled-bg-color: #3B4455;\n",
              "      --disabled-fill-color: #666;\n",
              "  }\n",
              "\n",
              "  .colab-df-quickchart {\n",
              "    background-color: var(--bg-color);\n",
              "    border: none;\n",
              "    border-radius: 50%;\n",
              "    cursor: pointer;\n",
              "    display: none;\n",
              "    fill: var(--fill-color);\n",
              "    height: 32px;\n",
              "    padding: 0;\n",
              "    width: 32px;\n",
              "  }\n",
              "\n",
              "  .colab-df-quickchart:hover {\n",
              "    background-color: var(--hover-bg-color);\n",
              "    box-shadow: 0 1px 2px rgba(60, 64, 67, 0.3), 0 1px 3px 1px rgba(60, 64, 67, 0.15);\n",
              "    fill: var(--button-hover-fill-color);\n",
              "  }\n",
              "\n",
              "  .colab-df-quickchart-complete:disabled,\n",
              "  .colab-df-quickchart-complete:disabled:hover {\n",
              "    background-color: var(--disabled-bg-color);\n",
              "    fill: var(--disabled-fill-color);\n",
              "    box-shadow: none;\n",
              "  }\n",
              "\n",
              "  .colab-df-spinner {\n",
              "    border: 2px solid var(--fill-color);\n",
              "    border-color: transparent;\n",
              "    border-bottom-color: var(--fill-color);\n",
              "    animation:\n",
              "      spin 1s steps(1) infinite;\n",
              "  }\n",
              "\n",
              "  @keyframes spin {\n",
              "    0% {\n",
              "      border-color: transparent;\n",
              "      border-bottom-color: var(--fill-color);\n",
              "      border-left-color: var(--fill-color);\n",
              "    }\n",
              "    20% {\n",
              "      border-color: transparent;\n",
              "      border-left-color: var(--fill-color);\n",
              "      border-top-color: var(--fill-color);\n",
              "    }\n",
              "    30% {\n",
              "      border-color: transparent;\n",
              "      border-left-color: var(--fill-color);\n",
              "      border-top-color: var(--fill-color);\n",
              "      border-right-color: var(--fill-color);\n",
              "    }\n",
              "    40% {\n",
              "      border-color: transparent;\n",
              "      border-right-color: var(--fill-color);\n",
              "      border-top-color: var(--fill-color);\n",
              "    }\n",
              "    60% {\n",
              "      border-color: transparent;\n",
              "      border-right-color: var(--fill-color);\n",
              "    }\n",
              "    80% {\n",
              "      border-color: transparent;\n",
              "      border-right-color: var(--fill-color);\n",
              "      border-bottom-color: var(--fill-color);\n",
              "    }\n",
              "    90% {\n",
              "      border-color: transparent;\n",
              "      border-bottom-color: var(--fill-color);\n",
              "    }\n",
              "  }\n",
              "</style>\n",
              "\n",
              "  <script>\n",
              "    async function quickchart(key) {\n",
              "      const quickchartButtonEl =\n",
              "        document.querySelector('#' + key + ' button');\n",
              "      quickchartButtonEl.disabled = true;  // To prevent multiple clicks.\n",
              "      quickchartButtonEl.classList.add('colab-df-spinner');\n",
              "      try {\n",
              "        const charts = await google.colab.kernel.invokeFunction(\n",
              "            'suggestCharts', [key], {});\n",
              "      } catch (error) {\n",
              "        console.error('Error during call to suggestCharts:', error);\n",
              "      }\n",
              "      quickchartButtonEl.classList.remove('colab-df-spinner');\n",
              "      quickchartButtonEl.classList.add('colab-df-quickchart-complete');\n",
              "    }\n",
              "    (() => {\n",
              "      let quickchartButtonEl =\n",
              "        document.querySelector('#df-2ceb9e93-2871-4658-9ee8-65e17cf8783c button');\n",
              "      quickchartButtonEl.style.display =\n",
              "        google.colab.kernel.accessAllowed ? 'block' : 'none';\n",
              "    })();\n",
              "  </script>\n",
              "</div>\n",
              "\n",
              "    </div>\n",
              "  </div>\n"
            ],
            "application/vnd.google.colaboratory.intrinsic+json": {
              "type": "dataframe",
              "variable_name": "df",
              "summary": "{\n  \"name\": \"df\",\n  \"rows\": 11123,\n  \"fields\": [\n    {\n      \"column\": \"bookID\",\n      \"properties\": {\n        \"dtype\": \"number\",\n        \"std\": 13094,\n        \"min\": 1,\n        \"max\": 45641,\n        \"num_unique_values\": 11123,\n        \"samples\": [\n          33439,\n          1537,\n          32330\n        ],\n        \"semantic_type\": \"\",\n        \"description\": \"\"\n      }\n    },\n    {\n      \"column\": \"title\",\n      \"properties\": {\n        \"dtype\": \"string\",\n        \"num_unique_values\": 10348,\n        \"samples\": [\n          \"Street of the Five Moons (Vicky Bliss  #2)\",\n          \"The Gunslinger (The Dark Tower #1)\",\n          \"The Totem\"\n        ],\n        \"semantic_type\": \"\",\n        \"description\": \"\"\n      }\n    },\n    {\n      \"column\": \"authors\",\n      \"properties\": {\n        \"dtype\": \"string\",\n        \"num_unique_values\": 6639,\n        \"samples\": [\n          \"Jamie Oliver/Marion Deuchars/David Loftus/Chris Terry\",\n          \"John Patrick Diggins/Arthur M. Schlesinger Jr.\",\n          \"George Gamow/Roger Penrose\"\n        ],\n        \"semantic_type\": \"\",\n        \"description\": \"\"\n      }\n    },\n    {\n      \"column\": \"average_rating\",\n      \"properties\": {\n        \"dtype\": \"number\",\n        \"std\": 0.3504853116512785,\n        \"min\": 0.0,\n        \"max\": 5.0,\n        \"num_unique_values\": 209,\n        \"samples\": [\n          4.06,\n          3.18,\n          3.96\n        ],\n        \"semantic_type\": \"\",\n        \"description\": \"\"\n      }\n    },\n    {\n      \"column\": \"isbn\",\n      \"properties\": {\n        \"dtype\": \"string\",\n        \"num_unique_values\": 11123,\n        \"samples\": [\n          \"1575667215\",\n          \"0452011671\",\n          \"0345492781\"\n        ],\n        \"semantic_type\": \"\",\n        \"description\": \"\"\n      }\n    },\n    {\n      \"column\": \"isbn13\",\n      \"properties\": {\n        \"dtype\": \"number\",\n        \"std\": 442975846058,\n        \"min\": 8987059752,\n        \"max\": 9790007672386,\n        \"num_unique_values\": 11123,\n        \"samples\": [\n          9781575667218,\n          9780452011670,\n          9780345492784\n        ],\n        \"semantic_type\": \"\",\n        \"description\": \"\"\n      }\n    },\n    {\n      \"column\": \"language_code\",\n      \"properties\": {\n        \"dtype\": \"category\",\n        \"num_unique_values\": 27,\n        \"samples\": [\n          \"en-CA\",\n          \"zho\",\n          \"ger\"\n        ],\n        \"semantic_type\": \"\",\n        \"description\": \"\"\n      }\n    },\n    {\n      \"column\": \"  num_pages\",\n      \"properties\": {\n        \"dtype\": \"number\",\n        \"std\": 241,\n        \"min\": 0,\n        \"max\": 6576,\n        \"num_unique_values\": 997,\n        \"samples\": [\n          268,\n          795,\n          4\n        ],\n        \"semantic_type\": \"\",\n        \"description\": \"\"\n      }\n    },\n    {\n      \"column\": \"ratings_count\",\n      \"properties\": {\n        \"dtype\": \"number\",\n        \"std\": 112499,\n        \"min\": 0,\n        \"max\": 4597666,\n        \"num_unique_values\": 5294,\n        \"samples\": [\n          2883,\n          40629,\n          3760\n        ],\n        \"semantic_type\": \"\",\n        \"description\": \"\"\n      }\n    },\n    {\n      \"column\": \"text_reviews_count\",\n      \"properties\": {\n        \"dtype\": \"number\",\n        \"std\": 2576,\n        \"min\": 0,\n        \"max\": 94265,\n        \"num_unique_values\": 1822,\n        \"samples\": [\n          1607,\n          17547,\n          99\n        ],\n        \"semantic_type\": \"\",\n        \"description\": \"\"\n      }\n    },\n    {\n      \"column\": \"publication_date\",\n      \"properties\": {\n        \"dtype\": \"category\",\n        \"num_unique_values\": 3679,\n        \"samples\": [\n          \"8/30/1999\",\n          \"9/6/1997\",\n          \"4/24/1998\"\n        ],\n        \"semantic_type\": \"\",\n        \"description\": \"\"\n      }\n    },\n    {\n      \"column\": \"publisher\",\n      \"properties\": {\n        \"dtype\": \"category\",\n        \"num_unique_values\": 2290,\n        \"samples\": [\n          \"Possibilities\",\n          \"Soft Skull Press\",\n          \"Pocket Books: Gallery Books\"\n        ],\n        \"semantic_type\": \"\",\n        \"description\": \"\"\n      }\n    }\n  ]\n}"
            }
          },
          "metadata": {},
          "execution_count": 4
        }
      ]
    },
    {
      "cell_type": "markdown",
      "source": [
        "# Preguntas"
      ],
      "metadata": {
        "id": "kyV3MJhCCqbi"
      }
    },
    {
      "cell_type": "markdown",
      "source": [
        "Pregunta 1: ¿Cuántos libros hay en la base?\n",
        "\n",
        "Ayuda: la función len devuelve el largo de una lista o filas de una base.\n",
        "\n",
        "Otra manera sería con el método .shape\n",
        "\n",
        "Como sea, el resultado debería ser 11123"
      ],
      "metadata": {
        "id": "17_5oIOICsLj"
      }
    },
    {
      "cell_type": "code",
      "source": [],
      "metadata": {
        "id": "DFyVaNafDcSK"
      },
      "execution_count": null,
      "outputs": []
    },
    {
      "cell_type": "markdown",
      "source": [
        "Pregunta 2: ¿Cuál es el rating promedio?\n",
        "\n",
        "Ayuda: `df['average_rating'].mean()` devuelve el promedio de la columna en cuestión. También podría chequear que ese resultado conincida con el obtenido al hacer un \"describe\" de la base."
      ],
      "metadata": {
        "id": "5tGBwNTCEY62"
      }
    },
    {
      "cell_type": "code",
      "source": [],
      "metadata": {
        "id": "5ATvvf65FULG"
      },
      "execution_count": null,
      "outputs": []
    },
    {
      "cell_type": "markdown",
      "source": [
        "Pregunta 3: ¿Cuál es la editorial con más libros en la base?\n",
        "\n",
        "Ayuda: la respuesta es \"Vintage\". Una manera de saberlo es mediante `df['publisher'].value_counts()` ¿Pero de qué otras maneras se podría llegar al mismo resultado?"
      ],
      "metadata": {
        "id": "96spzVjDFqbV"
      }
    },
    {
      "cell_type": "code",
      "source": [],
      "metadata": {
        "id": "62FjXL8gF2Tb"
      },
      "execution_count": null,
      "outputs": []
    },
    {
      "cell_type": "markdown",
      "source": [
        "Pregunta 4: ¿Cómo es la distribución de la cantidad de páginas de los libros en la base?\n",
        "\n",
        "Ayuda: Podría hacerlo con seaborn\n",
        "\n",
        "`sns.distplot(df['  num_pages'],bins = 40)`"
      ],
      "metadata": {
        "id": "V8YWoMkEGGPg"
      }
    },
    {
      "cell_type": "code",
      "source": [],
      "metadata": {
        "id": "zd4UWZrRHhK2"
      },
      "execution_count": null,
      "outputs": []
    },
    {
      "cell_type": "markdown",
      "source": [
        "Pregunta 5: ¿Existe una relación entre el número de páginas de un libro y su rating promedio? Muestre gráficamente y con una regresión lineal.\n",
        "\n",
        "Ayuda: El gráfico con seaborn se puede hacer con el siguiente código:\n",
        "`sns.scatterplot(y='ratings_count',x='  num_pages',data=df)`\n",
        "\n",
        "La regresión podría hacerse con statsmodels de la siguiente manera:\n",
        "\n",
        "\n",
        "\n",
        "```\n",
        "import statsmodels.api as sm\n",
        "df=df.dropna()\n",
        "mod = sm.OLS(df['average_rating'], df['  num_pages'])\n",
        "res = mod.fit()\n",
        "print(res.summary())\n",
        "```\n",
        "\n",
        "\n",
        "\n",
        "También podría hacerse con sklearn. ¿Cómo?\n",
        "\n"
      ],
      "metadata": {
        "id": "lE8V4jdXIYKB"
      }
    },
    {
      "cell_type": "code",
      "source": [],
      "metadata": {
        "id": "amj4j9psK6r8"
      },
      "execution_count": null,
      "outputs": []
    }
  ]
}