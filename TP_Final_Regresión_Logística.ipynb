{
  "nbformat": 4,
  "nbformat_minor": 0,
  "metadata": {
    "colab": {
      "provenance": [],
      "include_colab_link": true
    },
    "kernelspec": {
      "name": "python3",
      "display_name": "Python 3"
    },
    "language_info": {
      "name": "python"
    }
  },
  "cells": [
    {
      "cell_type": "markdown",
      "metadata": {
        "id": "view-in-github",
        "colab_type": "text"
      },
      "source": [
        "<a href=\"https://colab.research.google.com/github/FerBarrey/An-lisis-cuantitativo-avanzados/blob/main/TP_Final_Regresi%C3%B3n_Log%C3%ADstica.ipynb\" target=\"_parent\"><img src=\"https://colab.research.google.com/assets/colab-badge.svg\" alt=\"Open In Colab\"/></a>"
      ]
    },
    {
      "cell_type": "markdown",
      "source": [
        "# Carga de datos"
      ],
      "metadata": {
        "id": "zfigCUv3lWCt"
      }
    },
    {
      "cell_type": "markdown",
      "source": [
        "Baje la siguiente base de datos:\n",
        "https://www.kaggle.com/datasets/tarekmuhammed/telecom-customers\n",
        "\n",
        "Se trata de una base con características de distintos clientes de una empresa telefónica. La idea es predecir si van a dejar de ser clientes de acuerdo a sus características observables."
      ],
      "metadata": {
        "id": "N5zdSKV0mrvZ"
      }
    },
    {
      "cell_type": "markdown",
      "source": [
        "# Preguntas"
      ],
      "metadata": {
        "id": "WmXwS9AAlZlC"
      }
    },
    {
      "cell_type": "markdown",
      "source": [
        "1) Extraiga la base, genere algunos reportes para entendimiento de la misma. Algunos ejemplos:\n",
        "\n",
        "- Tamaño de la base\n",
        "- Tipo de variables\n",
        "- Distribución o correlación entre variables\n",
        "- Etc..."
      ],
      "metadata": {
        "id": "jl1HVNk7lcra"
      }
    },
    {
      "cell_type": "markdown",
      "source": [
        "2) Genere una partición train-test (80-20). Tenga en cuenta separar la variable target: 'churn'."
      ],
      "metadata": {
        "id": "PdqTmlCwAAod"
      }
    },
    {
      "cell_type": "markdown",
      "source": [
        "3) Genere una Regresión Logística para identificar la tasa de cancelación (churn) que esté claramente overfiteada. Tal vez para esto tenga que generar variables sintéticas. ¿Cómo sabe qué está overfiteada? ¿Cuál es el score de entrenamiento? ¿Cuál es el problema de ese score?"
      ],
      "metadata": {
        "id": "a7IFE2bIAVqm"
      }
    },
    {
      "cell_type": "markdown",
      "source": [
        "4) Busque mejorar el modelo. Regularice como mejor le parezca."
      ],
      "metadata": {
        "id": "fzhE9TGUAqtG"
      }
    },
    {
      "cell_type": "markdown",
      "source": [
        "5) Investigue algún otro modelo de regresión y aplíquelo. No importa que no entienda tanto su funcionamiento, verá que en Sklearn todos los modelos tienen una estructura de implementación similar. Debería poder mejorar el score de testeo obtenido con regresión lineal. Recuerde primero overfitear el modelo (para eso tal vez tenga que generar variables nuevas) y luego regularizarlo (eso lo puede hacer no incluyendo todas las variables, reduciendo la dimensionalidad o ajustando hiperparámetros). Otros modelos overfitean mucho más fácil que la regresión lineal. Esta última pregunta excede un poco lo visto en clase, pero tiene el objetivo de animarlos a la propia investigación.\n",
        "\n",
        "Ejemplos posibles:\n",
        "- Árbol de decisión\n",
        "- Random Forest\n",
        "- Extra Trees\n",
        "- SVM"
      ],
      "metadata": {
        "id": "lXqA8i-IBKha"
      }
    }
  ]
}